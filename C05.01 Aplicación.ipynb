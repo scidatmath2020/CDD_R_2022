{
 "cells": [
  {
   "cell_type": "markdown",
   "metadata": {},
   "source": [
    "![imagenes](logo.png)"
   ]
  },
  {
   "cell_type": "markdown",
   "metadata": {},
   "source": [
    "## Aplicación\n",
    "\n",
    "Descargue desde https://github.com/scidatmath2020/Miscelanea/tree/main/R/Estadistica%20y%20Ciencia%20de%20datos/percepcion_corrupcion_autoridades_2022 los archivos ``Mexico_division_politica.csv``, ``tper_vic.RData`` y ``descriptor_autoridades.csv``."
   ]
  },
  {
   "cell_type": "markdown",
   "metadata": {},
   "source": [
    "## Problema\n",
    "\n",
    "En la **ENVIPE 2022** del INEGI, se le pregunta al encuestado, entre otras cosas, si considera que ciertas autoridades son corruptas.\n",
    "\n",
    "Dentro de la tabla ``tper_vic.RData``, en las columnas ``AP5_3_X``, con ``X`` tomando los valores 01, 02, 03,..., 10, se le pregunta al encuestado si reconoce a la autoridad X, donde las autoridades se indican más abajo.\n",
    "\n",
    "En caso de respuesta afirmativa (valor 1), se le procede a preguntar si considera que la autoridad ``X`` es o no corrupta, siendo 1 la respuesta \"Sí\". Estas respuestas se encuentran en ``AP5_5_X``\n",
    "\n",
    "El problema consiste en, para cada autoridad, generar una gráfica del mapa político de México coloreando cada entidad mediante el porcentaje de personas que reconocen dicha autoridad y la consideran corrupta respecto del total del personas que la reconocen."
   ]
  },
  {
   "cell_type": "code",
   "execution_count": null,
   "metadata": {},
   "outputs": [],
   "source": [
    "setwd(\"C:\\\\Users\\\\hp master\\\\OneDrive\\\\Escritorio\\\\mapa_corrupcion\")"
   ]
  },
  {
   "cell_type": "code",
   "execution_count": null,
   "metadata": {},
   "outputs": [],
   "source": [
    "load(\"tper_vic.RData\")"
   ]
  },
  {
   "cell_type": "code",
   "execution_count": null,
   "metadata": {},
   "outputs": [],
   "source": [
    "names(tper_vic)"
   ]
  },
  {
   "cell_type": "code",
   "execution_count": null,
   "metadata": {},
   "outputs": [],
   "source": [
    "tapply(tper_vic$FAC_ELE,tper_vic$CVE_ENT,sum)"
   ]
  },
  {
   "cell_type": "code",
   "execution_count": null,
   "metadata": {},
   "outputs": [],
   "source": [
    "library(tidyverse)"
   ]
  },
  {
   "cell_type": "markdown",
   "metadata": {},
   "source": [
    "## Reconocimiento de autoridades"
   ]
  },
  {
   "cell_type": "code",
   "execution_count": null,
   "metadata": {},
   "outputs": [],
   "source": [
    "autoridades = tper_vic %>% select(CVE_ENT,\n",
    "                                  starts_with(\"AP5_3\"),\n",
    "                                  FAC_ELE)"
   ]
  },
  {
   "cell_type": "code",
   "execution_count": null,
   "metadata": {},
   "outputs": [],
   "source": [
    "autoridades_tidy = autoridades %>% pivot_longer(names_to = \"Autoridad\",\n",
    "                             values_to = \"valor_reconocimiento\",\n",
    "                             cols = starts_with(\"AP5_3\")\n",
    "                            ) %>%\n",
    "    filter(valor_reconocimiento == 1) %>%\n",
    "    group_by(CVE_ENT,Autoridad) %>% \n",
    "    summarize(total_reconocimiento = sum(FAC_ELE))"
   ]
  },
  {
   "cell_type": "markdown",
   "metadata": {},
   "source": [
    "## Concepción de corrupción"
   ]
  },
  {
   "cell_type": "code",
   "execution_count": null,
   "metadata": {},
   "outputs": [],
   "source": [
    "corrupcion = tper_vic %>% select(CVE_ENT,\n",
    "                                  starts_with(\"AP5_5\"),\n",
    "                                  FAC_ELE)"
   ]
  },
  {
   "cell_type": "code",
   "execution_count": null,
   "metadata": {},
   "outputs": [],
   "source": [
    "corrupcion_tidy = corrupcion %>% pivot_longer(names_to = \"corrupcion_autoridad\",\n",
    "                             values_to = \"valor_corrupcion\",\n",
    "                             cols = starts_with(\"AP5_5\")\n",
    "                            ) %>%\n",
    "    filter(valor_corrupcion == 1) %>%\n",
    "    group_by(CVE_ENT,corrupcion_autoridad) %>% \n",
    "    summarize(total_corrupcion = sum(FAC_ELE))"
   ]
  },
  {
   "cell_type": "markdown",
   "metadata": {},
   "source": [
    "## Cálculos de porcentajes"
   ]
  },
  {
   "cell_type": "code",
   "execution_count": null,
   "metadata": {},
   "outputs": [],
   "source": [
    "autoridades_tidy"
   ]
  },
  {
   "cell_type": "code",
   "execution_count": null,
   "metadata": {},
   "outputs": [],
   "source": [
    "corrupcion_tidy"
   ]
  },
  {
   "cell_type": "code",
   "execution_count": null,
   "metadata": {},
   "outputs": [],
   "source": [
    "descriptor = read.csv(\"descriptor_autoridades.csv\")"
   ]
  },
  {
   "cell_type": "code",
   "execution_count": null,
   "metadata": {},
   "outputs": [],
   "source": [
    "descriptor"
   ]
  },
  {
   "cell_type": "code",
   "execution_count": null,
   "metadata": {},
   "outputs": [],
   "source": [
    "informacion = cbind(autoridades_tidy,corrupcion_tidy) %>%\n",
    "                mutate(porcentaje = total_corrupcion*100/total_reconocimiento) %>%\n",
    "                left_join(descriptor, by = c(\"Autoridad\"=\"CVE_Autoridad\"))  %>%\n",
    "                select(Entidad=CVE_ENT...1,Autoridad = Autoridad.y,porcentaje)"
   ]
  },
  {
   "cell_type": "code",
   "execution_count": null,
   "metadata": {},
   "outputs": [],
   "source": [
    "informacion"
   ]
  },
  {
   "cell_type": "markdown",
   "metadata": {},
   "source": [
    "## Mapa"
   ]
  },
  {
   "cell_type": "code",
   "execution_count": null,
   "metadata": {},
   "outputs": [],
   "source": [
    "mapa = read.csv(\"Mexico_division_politica.csv\")"
   ]
  },
  {
   "cell_type": "code",
   "execution_count": null,
   "metadata": {},
   "outputs": [],
   "source": [
    "#mapa %>% filter(as.integer(Grupo) == 2)\n",
    "\n",
    "mexico = mapa %>% mutate(Entidad = as.integer(Grupo))"
   ]
  },
  {
   "cell_type": "code",
   "execution_count": null,
   "metadata": {},
   "outputs": [],
   "source": [
    "mapa_final = mexico %>% left_join(informacion)"
   ]
  },
  {
   "cell_type": "code",
   "execution_count": null,
   "metadata": {},
   "outputs": [],
   "source": [
    "mapa_final %>% names()"
   ]
  },
  {
   "cell_type": "code",
   "execution_count": null,
   "metadata": {},
   "outputs": [],
   "source": [
    "ggplot() +\n",
    "    geom_polygon(data = mapa_final,\n",
    "                 mapping = aes(x=Longitud,\n",
    "                               y=Latitud,\n",
    "                               group=Grupo,\n",
    "                               fill = porcentaje)) +\n",
    "   scale_fill_gradient(low = \"yellow\",\n",
    "                      high = \"darkred\",\n",
    "                      na.value = NA,\n",
    "                      name=\"Porcentaje de mayores de edad\\nque perciben corrupción en la autoridad\") +\n",
    "  coord_map(xlim=c(-117,-87),\n",
    "            ylim=c(14,32)) +\n",
    "  theme(legend.position=\"top\",\n",
    "        panel.background = element_rect(\"#202020\"), \n",
    "        panel.grid = element_blank(),\n",
    "        axis.title = element_blank(), \n",
    "        axis.text = element_blank(), \n",
    "        axis.ticks = element_blank(),\n",
    "        plot.title = element_text(face=\"bold.italic\")\n",
    "  ) +\n",
    "  facet_wrap(.~Autoridad,ncol=5) +\n",
    "  labs(title = \"Población de 18 años y más que identifica a las autoridades de seguridad\\npública por entidad federativa y tipo de autoridad,\\nsegún percepción de corrupción\\nmarzo y abril de 2022\", \n",
    "       subtitle = \"Fuente: ENVIPE 2022, INEGI\")\n",
    "    \n",
    "    "
   ]
  }
 ],
 "metadata": {
  "kernelspec": {
   "display_name": "R",
   "language": "R",
   "name": "ir"
  },
  "language_info": {
   "codemirror_mode": "r",
   "file_extension": ".r",
   "mimetype": "text/x-r-source",
   "name": "R",
   "pygments_lexer": "r",
   "version": "3.6.1"
  }
 },
 "nbformat": 4,
 "nbformat_minor": 4
}
