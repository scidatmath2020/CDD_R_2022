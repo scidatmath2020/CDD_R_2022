{
 "cells": [
  {
   "cell_type": "markdown",
   "metadata": {},
   "source": [
    "![imagenes](logo.png)"
   ]
  },
  {
   "cell_type": "markdown",
   "metadata": {},
   "source": [
    "# Datos \"tidy\"\n",
    "\n",
    "Ahora aprendamos sobre el concepto de formato de datos \"tidy\" (es decir, formato de datos \"ordenado\") con un ejemplo del paquete ``fivethirtyeigh``. El paquete ``fivethirtyeight`` brinda acceso a los conjuntos de datos utilizados en muchos artículos publicados por el sitio web de periodismo de datos [FiveThirtyEight.com](https://fivethirtyeight.com/). Para obtener una lista completa de los dataframes incluidos en el paquete ``fivethirtyeight``, consulta la página web del paquete en: https://fivethirtyeight-r.netlify.app/articles/fivethirtyeight.html."
   ]
  },
  {
   "cell_type": "code",
   "execution_count": null,
   "metadata": {},
   "outputs": [],
   "source": [
    "#install.packages(\"fivethirtyeight\")\n",
    "library(fivethirtyeight)\n",
    "library(tidyverse)"
   ]
  },
  {
   "cell_type": "markdown",
   "metadata": {},
   "source": [
    "Centremos nuestra atención en el dataframe de bebidas ``drinks``:"
   ]
  },
  {
   "cell_type": "code",
   "execution_count": null,
   "metadata": {},
   "outputs": [],
   "source": [
    "drinks"
   ]
  },
  {
   "cell_type": "code",
   "execution_count": null,
   "metadata": {},
   "outputs": [],
   "source": [
    "?drinks"
   ]
  },
  {
   "cell_type": "markdown",
   "metadata": {},
   "source": [
    "Después de leer la ayuda ejecutando ``?drinks``, verás que ``drinks`` es un dataframe que contiene los resultados de una encuesta sobre la cantidad promedio de porciones de cerveza, licores y vino que se consumen en 193 países. Estos datos se informaron originalmente en FiveThirtyEight.com en el artículo de Mona Chalabi: [ “Dear Mona Followup: Where Do People Drink The Most Beer, Wine And Spirits?”](https://fivethirtyeight.com/features/dear-mona-followup-where-do-people-drink-the-most-beer-wine-and-spirits/).\n",
    "\n",
    "Apliquemos algunas de las funciones de procesamiento de datos que aprendimos en el **Capítulo 3**:\n",
    "\n",
    "1. Filtra las bebidas para considerar solo 5 países: Estados Unidos (USA), China (China), Italia (Italy), Arabia Saudita (Saudi Arabia) y México (Mexico).\n",
    "2. Luego selecciona todas las columnas excepto total de litros de alcohol (``total_litres_of_pure_alcohol``) usando el signo ``-``.\n",
    "3. Luego renombra las variables ``beer_servings``, ``spirit_servings``, y ``wine_servings`` como ``beer``, ``spirit`` y ``wine``, respectivamente.\n",
    "\n",
    "Llama ``drinks_smaller`` al dataframe obtenido"
   ]
  },
  {
   "cell_type": "code",
   "execution_count": null,
   "metadata": {},
   "outputs": [],
   "source": [
    "drink_smaller <- drinks %>%\n",
    "    filter(country %in% c(\"USA\",\"China\",\"Italy\",\"Saudi Arabia\",\"Mexico\")) %>%\n",
    "    select(-total_litres_of_pure_alcohol) %>%\n",
    "    rename(beer = beer_servings, spirit = spirit_servings, wine = wine_servings)\n",
    "\n",
    "drink_smaller"
   ]
  },
  {
   "cell_type": "markdown",
   "metadata": {},
   "source": [
    "Ahora hagámonos una pregunta: usando ``drinks_smaller``, ¿cómo crearíamos el diagrama de barras de lado a lado de la siguiente figura? "
   ]
  },
  {
   "cell_type": "markdown",
   "metadata": {},
   "source": [
    "![imagenes](im014.png)"
   ]
  },
  {
   "cell_type": "markdown",
   "metadata": {},
   "source": [
    "Analicemos la gramática de los gráficos:\n",
    "\n",
    "* La variable categórica ``country``, que cuenta con cinco niveles (China, Italia, Arabia Saudita, EE. UU. y México), tendría que asignarse a la posición x de las barras.\n",
    "\n",
    "* Las porciones de la variable numérica tendrían que asignarse a la posición y de las barras (la altura de las barras).\n",
    "\n",
    "* El tipo de variable categórica con tres niveles (cerveza, licor, vino) tendría que asignarse al color de relleno de las barras.\n",
    "\n",
    "Observa que ``drinks_smaller`` tiene tres variables separadas: ``beer``, ``spirit`` y ``wine``. Sin embargo, para usar la función ``ggplot()`` para recrear el gráfico de barras de arriba necesitamos un solo tipo de variable con tres valores posibles: ``beer``, ``spirit`` y ``wine``. \n",
    "\n",
    "Entonces podríamos asignar esta variable de tipo a la estética de relleno de nuestra trama. En otras palabras, para recrear el diagrama de barras anterior, nuestro marco de datos tendría que verse así:\n",
    "\n",
    "|country      |type   | servings|\n",
    "|:------------|:------|--------:|\n",
    "|China        |beer   |       79|\n",
    "|China        |spirit |      192|\n",
    "|China        |wine   |        8|\n",
    "|Italy        |beer   |       85|\n",
    "|Italy        |spirit |       42|\n",
    "|Italy        |wine   |      237|\n",
    "|Mexico       |beer   |      238|\n",
    "|Mexico       |spirit |       68|\n",
    "|Mexico       |wine   |        5|\n",
    "|Saudi Arabia |beer   |        0|\n",
    "|Saudi Arabia |spirit |        5|\n",
    "|Saudi Arabia |wine   |        0|\n",
    "|USA          |beer   |      249|\n",
    "|USA          |spirit |      158|\n",
    "|USA          |wine   |       84|\n",
    "\n",
    "LLamemos ``drinks_smaller_tidy`` a esta última tabla."
   ]
  },
  {
   "cell_type": "markdown",
   "metadata": {},
   "source": [
    "Nota que, si bien ``drinks_smaller`` y ``drinks_smaller_tidy`` tienen forma rectangular y contienen los mismos 15 valores numéricos (3 tipos de alcohol de 5 países), tienen un formato diferente. ``drinks_smaller`` se formatea en lo que se conoce como formato \"ancho\" (wide), mientras que ``drinks_smaller_tidy`` se formatea en lo que se conoce como formato \"largo/estrecho\" (long).\n",
    "\n",
    "En el contexto de hacer Ciencia de datos en **R**, el formato largo/estrecho también se conoce como formato **\"tidy\"**. Para poder utilizar los paquetes ``ggplot2`` y ``dplyr`` para la visualización de datos y la gestión de datos, tus dataframes de entrada deben estar, por lo general aunque no siempre, en formato tidy. Por lo tanto, todos los datos que no sean tidy deben convertirse primero. \n",
    "\n",
    "Antes de convertir dataframes no \"ordenados\" como ``drinks_smaller`` en dataframes \"ordenados\" como ``drinks_smaller_tidy``, definamos datos tidy."
   ]
  },
  {
   "cell_type": "markdown",
   "metadata": {},
   "source": [
    "## Definición de datos tidy\n",
    "\n",
    "Seguramente has escuchado la palabra \"ordenar\" en tu vida:\n",
    "\n",
    "* \"¡Ordena tu habitación!\"\n",
    "* \"Escribe tu tarea de manera ordenada para que sea más fácil hacerte comentarios\".\n",
    "* El libro más vendido de Marie Kondo, The Life-Changing Magic of Tidying Up: The Japanese Art of Decluttering and Organizing, y la serie de televisión de Netflix Tidying Up with Marie Kondo.\n",
    "* \"No soy ni mucho menos una persona ordenada, y los montones de libros sin leer en la mesa de café y junto a mi cama tienen una cualidad lastimera y suplicante para mí: '¡Léeme, por favor!'\" - Linda Grant\n",
    "\n",
    "¿Qué significa que sus datos estén \"ordenados\"? Si bien \"ordenado\" tiene un claro significado de \"organizado\", la palabra \"ordenado\" en Ciencia de datos usando **R** significa que tus datos siguen un formato estandarizado:\n",
    "\n",
    "Un dataframe es una colección de valores, generalmente números (si son cuantitativos) o cadenas, también conocidos como datos de texto (si son cualitativos/categóricos). Los valores se organizan de dos maneras: todo valor pertenece a una variable y a una observación. Una variable contiene todos los valores que miden el mismo atributo subyacente (como altura, temperatura, duración) en todas las unidades. Una observación contiene todos los valores medidos en la misma unidad (como una persona, un día o una ciudad) en todos los atributos.\n",
    "\n",
    "Los datos tidy son una forma estándar de asignar el significado de un dataframe a su estructura. Un dataframe es desordenado u ordenado según cómo se combinen las filas, columnas y tablas con las observaciones, las variables y los tipos. En datos ordenados:\n",
    "\n",
    "1. Cada variable forma una columna.\n",
    "2. Cada observación forma una fila.\n",
    "3. Cada tipo de unidad de observación forma una tabla."
   ]
  },
  {
   "cell_type": "markdown",
   "metadata": {},
   "source": [
    "Por ejemplo, supongamos que tienes la siguiente tabla de precios de acciones en\n",
    "\n",
    "Fecha|Precio de las acciones de Boeing |Precio de las acciones de Amazon|Precio de las acciones de Google\n",
    ":--|:--:|:--:|:--:\n",
    "2009-01-01|\t173.55|174.90|174.34\n",
    "2009-01-02|\t172.61|171.42|170.04"
   ]
  },
  {
   "cell_type": "markdown",
   "metadata": {},
   "source": [
    "Aunque los datos están perfectamente organizados en un formato rectangular tipo hoja de cálculo, no siguen la definición de datos en formato \"ordenado\". Si bien hay tres variables que corresponden a tres piezas únicas de información (fecha, nombre de la acción y precio de la acción), no hay tres columnas. En el formato de datos \"ordenado\", cada variable debe ser su propia columna, como se muestra en la siguiente tabla. Observa que ambas tablas presentan la misma información, pero en diferentes formatos.\n",
    "\n",
    "Fecha|Nombre de la acción|Precio de la acción\n",
    ":--:|:--:|:--:\n",
    "2009-01-01|Boeing|173.55\n",
    "2009-01-01|Amazon|174.90\n",
    "2009-01-01|Google|174.34\n",
    "2009-01-02|Boeing|172.61\n",
    "2009-01-02|Amazon|171.42\n",
    "2009-01-02|Google|170.04"
   ]
  },
  {
   "cell_type": "markdown",
   "metadata": {},
   "source": [
    "Ahora tenemos las tres columnas necesarias: Fecha, Nombre de la acción y Precio de la acción. Por otro lado, ahora consideremos esta tabla:\n",
    "\n",
    "Fecha|Precio Boeing|Clima\n",
    ":--:|:--:|:--\n",
    "2009-01-01|173.55|Soleado\n",
    "2009-01-02|172.61|Nublado\n",
    "\n",
    "En este caso, aunque la variable \"Precio de Boeing\" aparece como en nuestros datos no \"ordenados\" de hace dos tablas, los datos son \"ordenados\" ya que hay tres variables que corresponden a tres piezas únicas de información: Fecha, precio de Boeing y el clima de ese día en particular."
   ]
  },
  {
   "cell_type": "markdown",
   "metadata": {},
   "source": [
    "---\n",
    "---\n",
    "**Ejercicios**\n",
    "\n",
    "**4.2.1.** ¿Cuáles son las características comunes de los dataframes \"ordenados\"?\n",
    "\n",
    "**4.2.2.** ¿Qué hace que los dataframes \"ordenados\" sean útiles para organizar datos?\n",
    "\n",
    "---\n",
    "---"
   ]
  }
 ],
 "metadata": {
  "kernelspec": {
   "display_name": "R",
   "language": "R",
   "name": "ir"
  },
  "language_info": {
   "codemirror_mode": "r",
   "file_extension": ".r",
   "mimetype": "text/x-r-source",
   "name": "R",
   "pygments_lexer": "r",
   "version": "3.6.1"
  }
 },
 "nbformat": 4,
 "nbformat_minor": 4
}
