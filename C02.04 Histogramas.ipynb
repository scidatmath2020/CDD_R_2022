{
 "cells": [
  {
   "cell_type": "markdown",
   "metadata": {},
   "source": [
    "![imagenes](logo.png)"
   ]
  },
  {
   "cell_type": "markdown",
   "metadata": {},
   "source": [
    "# Histogramas\n",
    "\n",
    "Consideremos la variable ``temp`` en el dataframe ``weather`` una vez más, pero a diferencia de los gráficos lineales de la **Sección C02.3**, digamos que no nos importa su relación con el tiempo, sino que solo nos importa cómo se distribuyen los valores de la temperatura. En otras palabras:\n",
    "\n",
    "* ¿Cuáles son los valores más pequeño y más grande?\n",
    "* ¿Cuál es el valor \"central\" o \"más típico\"?\n",
    "* ¿Cómo se distribuyen los valores?\n",
    "* ¿Cuáles son los valores frecuentes e infrecuentes?\n",
    "\n",
    "Una forma de visualizar esta distribución de esta única variable es trazar sus valores en una línea horizontal como lo hacemos en la siguiente imagen"
   ]
  },
  {
   "cell_type": "code",
   "execution_count": null,
   "metadata": {},
   "outputs": [],
   "source": [
    "library(nycflights13)\n",
    "library(tidyverse)"
   ]
  },
  {
   "cell_type": "code",
   "execution_count": null,
   "metadata": {},
   "outputs": [],
   "source": [
    "ggplot(data=weather) +\n",
    "   geom_point(aes(x=temp),y=0,alpha=0.01) +\n",
    "   ylim(c(-0.25,0.25)) +\n",
    "   scale_x_continuous(breaks=seq(0,100,10))"
   ]
  },
  {
   "cell_type": "markdown",
   "metadata": {},
   "source": [
    "Esto nos da una idea general de cómo se distribuyen los valores de temperatura: observe que las temperaturas varían desde alrededor de 11 °F (-11 °C) hasta 100 °F (38 °C). Además, parece haber más temperaturas registradas entre 40 °F y 60 °F que fuera de este rango. Sin embargo, debido al alto grado de representación gráfica de los puntos, es difícil tener una idea exacta de cuántos valores hay entre, por ejemplo, 50 °F y 55 °F.\n",
    "\n",
    "Lo que comúnmente se produce en lugar de la figura anterior se conoce como histograma. Un histograma es un gráfico que visualiza la distribución de un valor numérico de la siguiente manera:\n",
    "\n",
    "* Primero cortamos el eje x en una serie de contenedores, donde cada contenedor representa un rango de valores.\n",
    "* Para cada contenedor, contamos el número de observaciones que caen en el rango correspondiente a ese contenedor.\n",
    "* Luego, para cada contenedor, dibujamos una barra cuya altura marca la cuenta correspondiente.\n",
    "\n",
    "Profundicemos en un ejemplo de un histograma:\n",
    "\n",
    "![imagenes](im002.png)"
   ]
  },
  {
   "cell_type": "markdown",
   "metadata": {},
   "source": [
    "Centrémonos solo en temperaturas entre 30 °F (-1 °C) y 60 °F (15 °C) por ahora. Observe que hay tres contenedores de igual ancho entre 30°F y 60°F. Por lo tanto, tenemos tres contenedores de 10 °F de ancho cada uno: un contenedor para el rango de 30 a 40 °F, otro contenedor para el rango de 40 a 50 °F y otro contenedor para el rango de 50 a 60 °F. Ya que:\n",
    "\n",
    "* El contenedor para el rango de 30-40 °F tiene una altura de alrededor de 5000. En otras palabras, alrededor de 5000 de los registros de temperatura por hora están entre 30 °F y 40 °F.\n",
    "* El contenedor para el rango de 40-50 °F tiene una altura de alrededor de 4300. En otras palabras, alrededor de 4300 de los registros de temperatura por hora están entre 40 °F y 50 °F.\n",
    "* El contenedor para el rango de 50-60 °F tiene una altura de alrededor de 3500. En otras palabras, alrededor de 3500 de los registros de temperatura por hora están entre 50 °F y 60 °F.\n",
    "\n",
    "Los nueve contenedores que abarcan de 10 °F a 100 °F en el eje x tienen esta interpretación."
   ]
  },
  {
   "cell_type": "markdown",
   "metadata": {},
   "source": [
    "## Histogramas en ggplot\n",
    "\n",
    " A diferencia de los diagramas de dispersión y los gráficos de líneas, ahora solo se mapea una variable en ``aes()``: la variable numérica única ``temp``. La estética Y de un histograma, el recuento de las observaciones en cada contenedor, se calcula automáticamente. Además, la capa de objetos geométricos ahora es un ``geom_histogram()``. Después de ejecutar el siguiente código, verás el histograma de la figura anterior, así como mensajes de advertencia. Hablaremos primero de los mensajes de advertencia."
   ]
  },
  {
   "cell_type": "code",
   "execution_count": null,
   "metadata": {},
   "outputs": [],
   "source": [
    "ggplot(data = weather, mapping = aes(x = temp)) +\n",
    "  geom_histogram()"
   ]
  },
  {
   "cell_type": "markdown",
   "metadata": {},
   "source": [
    "El primer mensaje nos dice que el histograma se construyó usando bins = 30 para 30 bins igualmente espaciados. Esto se conoce en la programación de computadoras como un valor predeterminado; a menos que anule este número predeterminado de contenedores con un número que especifique, **R** elegirá 30 de forma predeterminada. Veremos en la siguiente sección cómo cambiar el número de contenedores a otro valor que el predeterminado.\n",
    "\n",
    "El segundo mensaje nos dice algo similar al mensaje de advertencia que recibimos cuando ejecutamos el código para crear un diagrama de dispersión de retrasos de salida y llegada para los vuelos de Alaska Airlines: que debido a que falta un valor de ``NA`` para la temperatura en una fila, es omitido del histograma. **R** solo nos está dando un aviso amistoso de que este fue el caso.\n",
    "\n",
    "Ahora descomprimamos el histograma resultante. Tenga en cuenta que los valores inferiores a 25 °F, así como los valores superiores a 80 °F, son bastante raros. Sin embargo, debido a la gran cantidad de contenedores, es difícil tener una idea de qué rango de temperaturas abarca cada contenedor. Así que agreguemos bordes verticales blancos que demarquen los contenedores agregando un argumento ``color = \"white\"`` a ``geom_histogram()`` e ignoremos la advertencia sobre establecer el número de contenedores a un mejor valor:"
   ]
  },
  {
   "cell_type": "code",
   "execution_count": null,
   "metadata": {},
   "outputs": [],
   "source": [
    "ggplot(data = weather, mapping = aes(x = temp)) +\n",
    "  geom_histogram(color = \"white\")"
   ]
  },
  {
   "cell_type": "markdown",
   "metadata": {},
   "source": [
    "Ahora es más fácil asociar rangos de temperaturas a cada uno de los contenedores. También podemos variar el color de las barras configurando el argumento de relleno. Por ejemplo, puede configurar los colores del contenedor para que sean \"acero azul\" hacemos ``fill = \"steelblue\"``:"
   ]
  },
  {
   "cell_type": "code",
   "execution_count": null,
   "metadata": {},
   "outputs": [],
   "source": [
    "ggplot(data = weather, mapping = aes(x = temp)) +\n",
    "  geom_histogram(color = \"white\", fill = \"steelblue\")"
   ]
  },
  {
   "cell_type": "markdown",
   "metadata": {},
   "source": [
    "Si tienes curiosidad, ejecuta ``colors()`` para ver las 657 opciones posibles de colores en **R**."
   ]
  },
  {
   "cell_type": "code",
   "execution_count": null,
   "metadata": {},
   "outputs": [],
   "source": [
    "colors()"
   ]
  },
  {
   "cell_type": "markdown",
   "metadata": {},
   "source": [
    "### Ajustando los bins\n",
    "\n",
    "Observe en el histograma que en el rango de 50 a 75 °F parece haber aproximadamente 8 recipientes. Por lo tanto, cada contenedor tiene un ancho de 25 dividido por 8, o 3,125 °F, que no es un rango muy fácil de interpretar para trabajar. Mejoremos esto ajustando el número de contenedores en nuestro histograma de una de dos maneras:\n",
    "\n",
    "* Ajustando el número de contenedores a través del argumento ``bins`` a ``geom_histogram()``.\n",
    "* Ajustando el ancho de los contenedores mediante el argumento ``binwidth`` a ``geom_histogram()``.\n",
    "\n",
    "Usando el primer método, podemos especificar en cuántos contenedores nos gustaría cortar el eje x. Como se mencionó anteriormente, el número predeterminado de contenedores es 30. Podemos anular este valor predeterminado, para decir 40 contenedores, de la siguiente manera:"
   ]
  },
  {
   "cell_type": "code",
   "execution_count": null,
   "metadata": {},
   "outputs": [],
   "source": [
    "ggplot(data = weather, mapping = aes(x = temp)) +\n",
    "  geom_histogram(bins = 40, color = \"white\")"
   ]
  },
  {
   "cell_type": "markdown",
   "metadata": {},
   "source": [
    "Usando el segundo método, en lugar de especificar el número de contenedores, especificamos el ancho de los contenedores usando el argumento ``binwidth`` en la capa ``geom_histogram()``. Por ejemplo, establezcamos el ancho de cada bandeja en 10 °F."
   ]
  },
  {
   "cell_type": "code",
   "execution_count": null,
   "metadata": {},
   "outputs": [],
   "source": [
    "ggplot(data = weather, mapping = aes(x = temp)) +\n",
    "  geom_histogram(binwidth = 10, color = \"white\")"
   ]
  },
  {
   "cell_type": "markdown",
   "metadata": {},
   "source": [
    "---\n",
    "---\n",
    "\n",
    "**Ejercicios**\n",
    "\n",
    "**2.4.1.** ¿Qué nos dice cambiar el número de recipientes de 30 a 40 sobre la distribución de temperaturas?\n",
    "\n",
    "**2.4.2.** ¿Clasificaría la distribución de temperaturas como simétrica o sesgada en una u otra dirección?\n",
    "\n",
    "**2.4.3.** ¿Cuál creería que es el valor “central” en esta distribución? ¿Por qué hiciste esa elección?\n",
    "\n",
    "**2.4.4.** ¿Estos datos están muy dispersos desde el centro o están cerca? ¿Por qué?\n",
    "\n",
    "---\n",
    "---"
   ]
  },
  {
   "cell_type": "markdown",
   "metadata": {},
   "source": [
    "## En resumen...\n",
    "\n",
    "Los histogramas, a diferencia de los diagramas de dispersión y los gráficos lineales, presentan información sobre una única variable numérica. En concreto, son visualizaciones de la distribución de la variable numérica en cuestión."
   ]
  }
 ],
 "metadata": {
  "kernelspec": {
   "display_name": "R",
   "language": "R",
   "name": "ir"
  },
  "language_info": {
   "codemirror_mode": "r",
   "file_extension": ".r",
   "mimetype": "text/x-r-source",
   "name": "R",
   "pygments_lexer": "r",
   "version": "3.6.1"
  }
 },
 "nbformat": 4,
 "nbformat_minor": 4
}
