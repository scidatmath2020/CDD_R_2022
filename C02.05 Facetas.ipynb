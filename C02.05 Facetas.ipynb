{
 "cells": [
  {
   "cell_type": "markdown",
   "metadata": {},
   "source": [
    "![imagenes](logo.png)"
   ]
  },
  {
   "cell_type": "markdown",
   "metadata": {},
   "source": [
    "# Facetas\n",
    "\n",
    "Antes de continuar con los siguientes elementos del 5NG, presentemos brevemente un nuevo concepto llamado *facetado*. La creación de facetas se usa cuando nos gustaría dividir una visualización particular por los valores de otra variable. Esto creará varias copias del mismo tipo de gráfico con ejes x e y coincidentes, pero cuyo contenido diferirá.\n",
    "\n",
    "Por ejemplo, supongamos que estamos interesados en ver cómo los histogramas de los registros de temperatura por hora en los tres aeropuertos de la ciudad de Nueva York difieren en cada mes. Podríamos \"dividir\" este histograma por los 12 meses posibles en un año determinado. En otras palabras, trazaríamos histogramas de temperatura para cada mes por separado. Hacemos esto agregando la capa ``facet_wrap(~month)``."
   ]
  },
  {
   "cell_type": "code",
   "execution_count": null,
   "metadata": {},
   "outputs": [],
   "source": [
    "library(ggplot2)\n",
    "library(nycflights13)\n",
    "\n",
    "ggplot(data = weather, mapping = aes(x = temp)) +\n",
    "  geom_histogram(binwidth = 5, color = \"white\") +\n",
    "  facet_wrap(~ month)"
   ]
  },
  {
   "cell_type": "markdown",
   "metadata": {},
   "source": [
    "También podemos especificar el número de filas y columnas en la cuadrícula usando los argumentos ``nrow`` y ``ncol`` dentro de ``facet_wrap()``. Por ejemplo, supongamos que nos gustaría que nuestro histograma facetado tuviera 4 filas en lugar de 3. Simplemente agregamos un argumento ``nrow = 4`` a ``facet_wrap(~month)``"
   ]
  },
  {
   "cell_type": "code",
   "execution_count": null,
   "metadata": {},
   "outputs": [],
   "source": [
    "ggplot(data = weather, mapping = aes(x = temp)) +\n",
    "  geom_histogram(binwidth = 5, color = \"white\") +\n",
    "  facet_wrap(~ month, nrow = 4)"
   ]
  },
  {
   "cell_type": "markdown",
   "metadata": {},
   "source": [
    "Observe en las anteriores que, como cabría esperar en el hemisferio norte, las temperaturas tienden a ser más altas en los meses de verano, mientras que tienden a ser más bajas en el invierno."
   ]
  },
  {
   "cell_type": "markdown",
   "metadata": {},
   "source": [
    "---\n",
    "---\n",
    "**Ejercicios.**\n",
    "\n",
    "**2.5.1.** ¿Qué otras cosas notas sobre esta trama facetada? ¿Cómo nos ayuda una gráfica facetada a ver las relaciones entre dos variables?\n",
    "\n",
    "**2.5.2.** ¿A qué corresponden los números 1-12 en la gráfica? ¿Qué pasa con 25, 50, 75, 100?\n",
    "\n",
    "**2.5.3.** ¿Para qué tipos de conjuntos de datos los diagramas facetados no funcionarían bien al comparar relaciones entre variables? Dé un ejemplo que describa la naturaleza de estas variables y otras características importantes.\n",
    "\n",
    "**2.5.4.** ¿La variable ``temp`` en el dataframe ``weather`` tiene mucha variabilidad? ¿Por qué?\n",
    "\n",
    "---\n",
    "---"
   ]
  }
 ],
 "metadata": {
  "kernelspec": {
   "display_name": "R",
   "language": "R",
   "name": "ir"
  },
  "language_info": {
   "codemirror_mode": "r",
   "file_extension": ".r",
   "mimetype": "text/x-r-source",
   "name": "R",
   "pygments_lexer": "r",
   "version": "3.6.1"
  }
 },
 "nbformat": 4,
 "nbformat_minor": 4
}
