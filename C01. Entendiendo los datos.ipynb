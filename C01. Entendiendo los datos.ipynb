{
 "cells": [
  {
   "cell_type": "markdown",
   "metadata": {},
   "source": [
    "![imagenes](logo.png)"
   ]
  },
  {
   "cell_type": "markdown",
   "metadata": {},
   "source": [
    "Los datos nos llegan en una variedad de formatos, desde imágenes hasta texto y números. A lo largo de este curso, nos centraremos en conjuntos de datos que se guardan en formato de tipo \"hoja de cálculo\". Esta es probablemente la forma más común en que se recopilan y guardan los datos en muchos campos. \n",
    "\n",
    "En **R**, estos conjuntos de datos son conocidos como **dataframes**. Nos centraremos en trabajar con datos guardados como dataframes a lo largo de este curso.\n",
    "\n",
    "Primero, carguemos todos los paquetes necesarios para este capítulo, suponiendo que ya los haya instalado."
   ]
  },
  {
   "cell_type": "code",
   "execution_count": null,
   "metadata": {},
   "outputs": [],
   "source": [
    "#install.packages(tidyverse) # Se trata de la paquetería mas importante de R para realizar análisis de datos\n",
    "#install.packages(\"nycflights13\") # Contiene un conjunto de tablas en el que nos apoyaremos a lo largo del curso\n",
    "#install.packages(\"knitr\") # Contiene una serie de funciones auxiliares\n",
    "\n",
    "library(nycflights13)\n",
    "library(tidyverse)\n",
    "library(knitr)"
   ]
  },
  {
   "cell_type": "markdown",
   "metadata": {},
   "source": [
    "## El paquete ``nycflights13``\n",
    "\n",
    "Muchos de nosotros hemos volado en aviones o conocemos a alguien que lo haya hecho. Los viajes aéreos se han convertido en un aspecto siempre presente en la vida de muchas personas. Si observa el panel de información de vuelos de Salidas en un aeropuerto, con frecuencia verá que algunos vuelos se retrasan por una variedad de razones. ¿Hay formas en que podamos entender las razones que causan los retrasos en los vuelos?\n",
    "\n",
    "A todos nos gustaría llegar a nuestros destinos a tiempo siempre que sea posible. El paquete ``nycflights13`` contiene cinco dataframes sobre información acerca de vuelos, aviones, aeropuertos, etcétera:\n",
    "\n",
    "* ``flights``. Información sobre 336,776 vuelos.\n",
    "* ``airlines``. Una tabla que combina los nombres de las aerolíneas y sus códigos de dos letras pertenecientes a la Asociación Internacional de Transporte Aéreo (IATA) para 16 aerolíneas.\n",
    "* ``planes``. Información sobre cada uno de los 3.322 aviones físicos utilizados.\n",
    "* ``weather``. Datos meteorológicos por hora para cada uno de los tres aeropuertos de Nueva York. Este marco de datos tiene 26.115 filas, que corresponden aproximadamente a la 365x24x3=26,280 posibles mediciones por hora que se pueden observar en tres lugares en el transcurso de un año.\n",
    "* ``airports``. Nombres, códigos y ubicaciones de los 1,458 destinos nacionales. "
   ]
  },
  {
   "cell_type": "markdown",
   "metadata": {},
   "source": [
    "## Exploración de dataframes\n",
    "\n",
    "Echemos un vistazo rápido al dataframe de vuelos:"
   ]
  },
  {
   "cell_type": "code",
   "execution_count": null,
   "metadata": {},
   "outputs": [],
   "source": [
    "flights"
   ]
  },
  {
   "cell_type": "markdown",
   "metadata": {},
   "source": [
    "Hay muchas maneras de tener una idea de los datos contenidos en un dataframe como el anterior. Presentamos tres funciones que toman como su \"argumento\" (su entrada) el dataframe en cuestión. También incluimos un cuarto método para explorar una columna particular de un marco de datos:\n",
    "\n",
    "1. Usando la función ``View()``, que abre el visor de datos integrado de **RStudio**.\n",
    "2. Usando la función ``glimpse()``, que se incluye en el paquete ``dplyr`` dentro de ``tidyverse``.\n",
    "3. Usando la función ``kable()``, que se incluye en el paquete ``knitr``.\n",
    "4. Usando el \"operador de extracción\" ``$``, que se usa para ver una sola variable/columna en un dataframe."
   ]
  },
  {
   "cell_type": "code",
   "execution_count": null,
   "metadata": {},
   "outputs": [],
   "source": [
    "glimpse(flights)"
   ]
  },
  {
   "cell_type": "code",
   "execution_count": null,
   "metadata": {},
   "outputs": [],
   "source": [
    "kable(airlines)"
   ]
  },
  {
   "cell_type": "markdown",
   "metadata": {},
   "source": [
    "## Variables de identificación y de medida\n",
    "\n",
    "Hay una diferencia sutil entre los tipos de variables que encontrarás en los dataframes. Hay variables de identificación y variables de medición. Por ejemplo, exploremos el dataframe de aeropuertos:"
   ]
  },
  {
   "cell_type": "code",
   "execution_count": null,
   "metadata": {},
   "outputs": [],
   "source": [
    "glimpse(airports)"
   ]
  },
  {
   "cell_type": "markdown",
   "metadata": {},
   "source": [
    "Las variables ``faa`` y ``name`` son lo que llamaremos *variables de identificación*: variables que identifican de forma única a cada unidad de observación. Estas variables se utilizan principalmente en la práctica para identificar de forma única cada fila en un dataframe\n",
    "\n",
    "---\n",
    "**Ejemplo 1.1**\n",
    "\n",
    "En este caso, las variables de identificación identifican únicamente los aeropuertos: ``faa`` da el código único proporcionado por la FAA para ese aeropuerto, mientras que ``name`` da el nombre oficial del aeropuerto. \n",
    "\n",
    "---\n",
    "\n",
    "Las variables restantes (``lat``, ``lon``, ``alt``, ``tz``, ``dst``, ``tzone``) a menudo se denominan *variables de medición* o *características*: variables que describen las propiedades de cada unidad de observación. Por ejemplo, ``lat`` y ``long`` describen la latitud y la longitud de cada aeropuerto.\n",
    "\n",
    "Además, a veces una sola variable puede no ser suficiente para identificar de manera única cada unidad de observación: es posible que se necesiten combinaciones de variables. Si bien no es una regla absoluta, para fines organizacionales se considera una buena práctica tener sus variables de identificación en las columnas más a la izquierda de su dataframe."
   ]
  }
 ],
 "metadata": {
  "kernelspec": {
   "display_name": "R",
   "language": "R",
   "name": "ir"
  },
  "language_info": {
   "codemirror_mode": "r",
   "file_extension": ".r",
   "mimetype": "text/x-r-source",
   "name": "R",
   "pygments_lexer": "r",
   "version": "3.6.1"
  }
 },
 "nbformat": 4,
 "nbformat_minor": 4
}
