{
 "cells": [
  {
   "cell_type": "markdown",
   "metadata": {},
   "source": [
    "![imagenes](logo.png)"
   ]
  },
  {
   "cell_type": "markdown",
   "metadata": {},
   "source": [
    "# Estudio de caso: Democracia en México\n",
    "\n",
    "En esta sección, te mostraremos otro ejemplo de cómo convertir un marco de datos que no está en formato \"ordenado\" (formato \"ancho\") a un marco de datos que está en formato \"ordenado\" (formato \"largo/estrecho\")). Haremos esto usando la función \n",
    "\n",
    "Además, haremos uso de funciones de los paquetes ``ggplot2`` y ``dplyr`` para producir un gráfico de serie de tiempo que muestre cómo han cambiado los puntajes de democracia durante los 40 años, desde 1952 hasta 1992 para México.\n",
    "\n",
    "Usemos el dataframe ``dem_score`` que importamos en **C04.01**, pero centrémonos solo en los datos correspondientes a México."
   ]
  },
  {
   "cell_type": "code",
   "execution_count": null,
   "metadata": {},
   "outputs": [],
   "source": [
    "library(tidyverse)"
   ]
  },
  {
   "cell_type": "code",
   "execution_count": null,
   "metadata": {},
   "outputs": [],
   "source": [
    "dem_score <- read_csv(\"C:\\\\Users\\\\hp master\\\\Downloads\\\\dem_score.csv\")"
   ]
  },
  {
   "cell_type": "code",
   "execution_count": null,
   "metadata": {},
   "outputs": [],
   "source": [
    "mex_dem <- dem_score %>%\n",
    "    filter(country == \"Mexico\")\n",
    "\n",
    "mex_dem"
   ]
  },
  {
   "cell_type": "markdown",
   "metadata": {},
   "source": [
    "Primero, sabemos que necesitamos establecer ``data = mex_dem`` y usar una capa ``geom_line()``, pero ¿cuál es el mapeo estético de variables? Nos gustaría ver cómo ha cambiado el puntaje de democracia a lo largo de los años, por lo que debemos mapear:\n",
    "\n",
    "* ``year`` a la posición x de los atributos estéticos.\n",
    "* ``democratic_score`` a la posición y de los atributos estéticos.\n",
    "\n",
    "Ahora estamos atrapados en un aprieto, como en nuestro ejemplo de ``drinks_smaller``. Vemos que tenemos una variable llamada ``country``, pero su único valor es ``\"Mexico\"``. Tenemos otras variables denotadas por diferentes valores de año. Desafortunadamente, el marco de datos ``mex_dem`` no está \"ordenado\" y, por lo tanto, no está en el formato apropiado para aplicar la gramática de gráficos y, por lo tanto, no podemos usar el paquete ``ggplot2`` todavía.\n",
    "\n",
    "Necesitamos tomar los valores de las columnas correspondientes a años en ``mex_dem`` y convertirlos en una nueva variable de ``\"names\"`` llamada ``year``. Además, necesitamos tomar los valores de puntaje de democracia en el interior del marco de datos y convertirlos en una nueva variable de \"valores\" llamada ``democracy_score``. Nuestro marco de datos resultante tendrá tres columnas: ``country``, ``year`` y ``democracy_score``. Recuerda que la ``función pivot_longer()`` en el paquete ``tidyr`` hace esto por nosotros:"
   ]
  },
  {
   "cell_type": "code",
   "execution_count": null,
   "metadata": {},
   "outputs": [],
   "source": [
    "mex_dem_tidy  <- mex_dem %>%\n",
    "    pivot_longer(names_to = \"year\", \n",
    "               values_to = \"democracy_score\", \n",
    "               cols = 2:10)\n",
    "\n",
    "mex_dem_tidy"
   ]
  },
  {
   "cell_type": "markdown",
   "metadata": {},
   "source": [
    "Establecemos los argumentos para ``pivot_longer()`` de la siguiente manera:\n",
    "\n",
    "* ``names_to`` es el nombre de la variable en el nuevo marco de datos \"ordenado\" que contendrá los nombres de las columnas de los datos originales. Observa cómo establecemos ``names_to = \"year\"``. En el ``mex_dem_tidy`` resultante, la columna ``year`` contiene los años en los que se midieron los puntajes de democracia de México.\n",
    "\n",
    "* ``values_to`` es el nombre de la variable en el nuevo marco de datos \"ordenado\" que contendrá los valores de los datos originales. Observe cómo establecemos ``values_to = \"democracy_score\"``. En el ``mex_dem_tidy`` resultante la columna ``democratic_score`` contiene los 1 x 9 = 9 puntajes de democracia como valores numéricos.\n",
    "\n",
    "* El tercer argumento son las columnas que desea o no desea \"ordenar\". Observe cómo establecemos esto en ``cols = 2:10``, lo que indica que queremos \"ordenar\" las columnas desde la segunda hasta la décima de ``mex_dem``.\n",
    "\n",
    "Ahora podemos intentar crear el gráfico de series de tiempo para visualizar cómo han cambiado los puntajes de democracia en México de 1952 a 1992 usando un ``geom_line()``."
   ]
  },
  {
   "cell_type": "code",
   "execution_count": null,
   "metadata": {},
   "outputs": [],
   "source": [
    "ggplot(mex_dem_tidy, aes(x = year, y = democracy_score)) +\n",
    "  geom_line()"
   ]
  },
  {
   "cell_type": "markdown",
   "metadata": {},
   "source": [
    "Como podemos observar, obtenemos una advertencia bastante curiosa. Esta se debe a que las posiciones x-y de ``geom_line()`` deben ser numéricas, lo cual en este caso ``year`` no cumple.\n",
    "\n",
    "El siguiente código remedia esta situación. Además, usaremos la función ``labs()`` para agregar etiquetas informativas a todos los atributos estéticos de nuestra gráfica (en este caso las posiciones x e y)."
   ]
  },
  {
   "cell_type": "code",
   "execution_count": null,
   "metadata": {},
   "outputs": [],
   "source": [
    "ggplot(mex_dem_tidy, aes(x = as.numeric(year), y = democracy_score)) +\n",
    "    geom_line() +\n",
    "    labs(x = \"Year\", y = \"Democracy Score\")"
   ]
  },
  {
   "cell_type": "markdown",
   "metadata": {},
   "source": [
    "---\n",
    "---\n",
    "\n",
    "**Ejercicios**\n",
    "\n",
    "**4.4.1** Convierta el dataframe ``dem_score`` en un dataframe \"ordenado\" y asigne el nombre de ``dem_score_tidy`` al marco de datos de formato largo resultante.\n",
    "\n",
    "**4.4.2** Lea los datos de esperanza de vida almacenados en https://moderndive.com/data/le_mess.csv y conviértelos en un marco de datos \"ordenado\".\n",
    "\n",
    "---\n",
    "---"
   ]
  }
 ],
 "metadata": {
  "kernelspec": {
   "display_name": "R",
   "language": "R",
   "name": "ir"
  },
  "language_info": {
   "codemirror_mode": "r",
   "file_extension": ".r",
   "mimetype": "text/x-r-source",
   "name": "R",
   "pygments_lexer": "r",
   "version": "3.6.1"
  }
 },
 "nbformat": 4,
 "nbformat_minor": 4
}
