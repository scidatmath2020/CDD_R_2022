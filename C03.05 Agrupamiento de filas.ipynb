{
 "cells": [
  {
   "cell_type": "markdown",
   "metadata": {},
   "source": [
    "![imagenes](logo.png)"
   ]
  },
  {
   "cell_type": "markdown",
   "metadata": {},
   "source": [
    "# Agrupamiento de filas\n",
    "\n",
    "![imagenes](im008.png)\n",
    "\n",
    "Digamos que en lugar de una sola temperatura media para todo el año, te gustaría tener 12 temperaturas medias: una para cada uno de los 12 meses por separado. En otras palabras, nos gustaría calcular la temperatura media dividida por mes. Podemos hacer esto \"agrupando\" las observaciones de temperatura por los valores de otra variable (en este caso por los 12 valores de la variable mes)."
   ]
  },
  {
   "cell_type": "code",
   "execution_count": null,
   "metadata": {},
   "outputs": [],
   "source": [
    "library(tidyverse)\n",
    "library(nycflights13)"
   ]
  },
  {
   "cell_type": "code",
   "execution_count": null,
   "metadata": {},
   "outputs": [],
   "source": [
    "resumen_mensual_temperaturas <- weather %>% \n",
    "  group_by(month) %>% \n",
    "  summarize(mean = mean(temp, na.rm = TRUE), \n",
    "            std_dev = sd(temp, na.rm = TRUE))\n",
    "resumen_mensual_temperaturas"
   ]
  },
  {
   "cell_type": "markdown",
   "metadata": {},
   "source": [
    "Este código es idéntico al código de la sección anterior con el cual creamos ``resumen_temperaturas``, pero con un ``group_by(month)`` adicional agregado antes de ``summary()``. Al agrupar el conjunto de datos meteorológicos por mes y luego aplicar las funciones de ``summarize()``, se obtiene un dataframe que muestra la temperatura media y la desviación estándar partida por los 12 meses del año.\n",
    "\n",
    "Es importante tener en cuenta que la función ``group_by()`` no cambia los dataframes por sí misma. Más bien cambia los metadatos, o datos sobre los datos (específicamente la estructura de agrupación). Es solo después de que aplicamos la función ``summarize()`` que el marco de datos cambia.\n",
    "\n",
    "Por ejemplo, consideremos el dataframe ``diamonds`` de diamantes incluido en el paquete ``ggplot2`` (y por lo tanto en ``tidyverse``). Ejecuta este código:"
   ]
  },
  {
   "cell_type": "code",
   "execution_count": null,
   "metadata": {},
   "outputs": [],
   "source": [
    "#### Ejecutar en RStudio\n",
    "diamonds"
   ]
  },
  {
   "cell_type": "markdown",
   "metadata": {},
   "source": [
    "Observe que la primera línea de la salida dice ``# A tibble: 53,940 x 10``. Este es un ejemplo de metadatos, que en este caso es el número de observaciones/filas y variables/columnas en ``diamonds``. Los datos reales en sí son tabla de valores. Ahora conectemos el dataframe ``diamonds`` con un ``group_by(cut)`` (es decir, agrupar por corte):"
   ]
  },
  {
   "cell_type": "code",
   "execution_count": null,
   "metadata": {},
   "outputs": [],
   "source": [
    "#### ejecutar en RStudio para observar la diferencia\n",
    "diamonds %>% \n",
    "  group_by(cut)"
   ]
  },
  {
   "cell_type": "markdown",
   "metadata": {},
   "source": [
    "Observe que ahora hay metadatos adicionales: ``# Grupos: cut [5]`` que indica que la estructura de agrupación de metadatos se ha establecido en función de los 5 niveles posibles de la variable categórica ``cut``: \"Fair\", \"Good\", \"Very Good\", \"Premium\" e \"Ideal\". Por otro lado, observe que los datos no ha cambiado: sigue siendo una tabla de 53940 x 10 valores.\n",
    "\n",
    "Solo combinando un ``group_by()`` con otra operación de procesamiento de datos, como ``summarize()``, los datos se transformarán realmente."
   ]
  },
  {
   "cell_type": "code",
   "execution_count": null,
   "metadata": {},
   "outputs": [],
   "source": [
    "diamonds %>% \n",
    "  group_by(cut) %>% \n",
    "  summarize(avg_price = mean(price))"
   ]
  },
  {
   "cell_type": "markdown",
   "metadata": {},
   "source": [
    "Si desea eliminar estos metadatos de la estructura de agrupación, podemos conectar el dataframe resultante a la función ``ungroup()``:"
   ]
  },
  {
   "cell_type": "code",
   "execution_count": null,
   "metadata": {},
   "outputs": [],
   "source": [
    "diamonds %>% \n",
    "  group_by(cut) %>% \n",
    "  ungroup()"
   ]
  },
  {
   "cell_type": "markdown",
   "metadata": {},
   "source": [
    "Observe cómo los metadatos ``# Groups: cut [5]`` ya no están presentes.\n",
    "\n",
    "Ahora revisemos la función de resumen de conteo ``n()`` que presentamos anteriormente de forma breve. Recuerde que la función ``n()`` cuenta filas. Esto se opone a la función de resumen ``sum()`` que devuelve la suma de una variable numérica. Por ejemplo, supongamos que nos gustaría contar cuántos vuelos salieron de cada uno de los tres aeropuertos de la ciudad de Nueva York:"
   ]
  },
  {
   "cell_type": "code",
   "execution_count": null,
   "metadata": {},
   "outputs": [],
   "source": [
    "origen <- flights %>% \n",
    "        group_by(origin) %>%\n",
    "        summarize(total = n())\n",
    "origen"
   ]
  },
  {
   "cell_type": "markdown",
   "metadata": {},
   "source": [
    "Vemos que Newark (\"EWR\") tuvo la mayor cantidad de vuelos que salieron en 2013, seguido de \"JFK\" y, por último, de LaGuardia (\"LGA\"). Ten en cuenta que hay una diferencia sutil pero importante entre ``sum()`` y ``n()``; mientras que ``sum()`` devuelve la suma de una variable numérica, ``n()`` devuelve un recuento del número de filas/observaciones."
   ]
  },
  {
   "cell_type": "markdown",
   "metadata": {},
   "source": [
    "## Agrupando por mas de una variable\n",
    "\n",
    "No estamos limitados a agrupar por una variable. Supongamos que se desea saber el número de vuelos que salen de cada uno de los tres aeropuertos de la ciudad de Nueva York durante cada mes. También podemos agrupar por una segunda variable, ``month``, usando ``group_by(origin, month)``:"
   ]
  },
  {
   "cell_type": "code",
   "execution_count": null,
   "metadata": {},
   "outputs": [],
   "source": [
    "flights %>%\n",
    "    group_by(origin,month) %>%\n",
    "    summarize(total = n())"
   ]
  },
  {
   "cell_type": "markdown",
   "metadata": {},
   "source": [
    "Observe que hay 36 filas para en el resultado porque hay 12 meses para 3 aeropuertos (EWR, JFK y LGA).\n",
    "\n",
    "Por otra parte, ¿por qué agrupamos por origen y mes y no agrupamos por origen primero y luego agrupamos por mes? Investiguemos:"
   ]
  },
  {
   "cell_type": "code",
   "execution_count": null,
   "metadata": {},
   "outputs": [],
   "source": [
    "flights %>% \n",
    "  group_by(origin) %>% \n",
    "  group_by(month) %>% \n",
    "  summarize(count = n())"
   ]
  },
  {
   "cell_type": "markdown",
   "metadata": {},
   "source": [
    "Lo que sucedió aquí es que el ``group_by(month)`` sobrescribió los metadatos de la estructura de agrupación del ``group_by(origin)``, de modo que al final solo estamos agrupando por mes. La lección aquí es que si desea agrupar por dos o más variables, debe incluir todas las variables al mismo tiempo en el mismo ``grupo_by()`` agregando una coma entre los nombres de las variables."
   ]
  },
  {
   "cell_type": "markdown",
   "metadata": {},
   "source": [
    "---\n",
    "---\n",
    "\n",
    "**Ejercicios**\n",
    "\n",
    "**3.5.1.** Recuerda del **Capítulo 2** cuando analizamos las temperaturas por meses en la ciudad de Nueva York. ¿Qué nos dice la columna de desviación estándar en el data frame ``resumen_mensual_temperaturas`` sobre las temperaturas en la ciudad de Nueva York durante todo el año?\n",
    "\n",
    "**3.5.2.** ¿Qué código se necesitaría para obtener la temperatura media y la desviación estándar de cada día en 2013 para la ciudad de Nueva York?\n",
    "\n",
    "**3.5.3.** Vuelva a crear una tabla agrupada por origen y mes, pero en lugar de agrupar mediante ``group_by(origin, month)``, agrupe las variables en un orden diferente ``group_by(month, origin)``. ¿Qué difiere en el conjunto de datos resultante?\n",
    "\n",
    "**3.5.4.** ¿Cómo podríamos identificar cuántos vuelos salieron de cada uno de los tres aeropuertos para cada aerolínea?\n",
    "\n",
    "**3.5.5.** ¿En qué se diferencia la operación ``filter()`` de un ``group_by()`` seguido de un ``summarize()``?\n",
    "\n",
    "---\n",
    "---"
   ]
  }
 ],
 "metadata": {
  "kernelspec": {
   "display_name": "R",
   "language": "R",
   "name": "ir"
  },
  "language_info": {
   "codemirror_mode": "r",
   "file_extension": ".r",
   "mimetype": "text/x-r-source",
   "name": "R",
   "pygments_lexer": "r",
   "version": "3.6.1"
  }
 },
 "nbformat": 4,
 "nbformat_minor": 4
}
