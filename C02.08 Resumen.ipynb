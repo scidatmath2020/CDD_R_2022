{
 "cells": [
  {
   "cell_type": "markdown",
   "metadata": {},
   "source": [
    "![imagenes](logo.png)"
   ]
  },
  {
   "cell_type": "markdown",
   "metadata": {},
   "source": [
    "# Resumen \n",
    "\n",
    "Recapitulemos los cinco gráficos nombrados (5NG) resumiendo sus diferencias. Con estos 5NG, podrá visualizar las distribuciones y relaciones de las variables contenidas en una amplia gama de conjuntos de datos. Este será aún más el caso a medida que comencemos a asignar más variables a más opciones de atributos estéticos de cada objeto geométrico"
   ]
  },
  {
   "cell_type": "markdown",
   "metadata": {},
   "source": [
    "Tipo de gráfico|¿Qué muestra?|Capa geométrica|Notas\n",
    ":--:|:--|:--:|:--\n",
    "Puntos|Relación entre dos variables numéricas|``geom_point()``|\n",
    "Línea|Relación entre dos variables numéricas|``geom_line()``|Se usa cuando hay un orden secuencial en la variable x como el tiempo\n",
    "Histograma|Distribución de una variable numérica|``geom_histogram()``|Los histogramas facetados muestran la distribución de 1 variable numérica dividida por los valores de otra variable\n",
    "Caja|Distribución de una variable numérica dividida por los valores de otra variable|``geom_boxplot()``|\n",
    "Barras|Distribución de una variable categórica|``geom_bar()`` cuando los recuentos no se cuentan previamente y ``geom_col()`` cuando los recuentos se cuentan previamente|Los diagramas de barras apilados, uno al lado del otro y facetados muestran la distribución conjunta de 2 variables categóricas"
   ]
  },
  {
   "cell_type": "markdown",
   "metadata": {},
   "source": [
    "## Guía ggplot\n",
    "\n",
    "Para cambiar los valores tikcs y etiquetas: http://www.sthda.com/english/wiki/ggplot2-axis-ticks-a-guide-to-customize-tick-marks-and-labels "
   ]
  }
 ],
 "metadata": {
  "kernelspec": {
   "display_name": "R",
   "language": "R",
   "name": "ir"
  },
  "language_info": {
   "codemirror_mode": "r",
   "file_extension": ".r",
   "mimetype": "text/x-r-source",
   "name": "R",
   "pygments_lexer": "r",
   "version": "3.6.1"
  }
 },
 "nbformat": 4,
 "nbformat_minor": 4
}
