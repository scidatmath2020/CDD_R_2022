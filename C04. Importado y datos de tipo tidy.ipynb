{
 "cells": [
  {
   "cell_type": "markdown",
   "metadata": {},
   "source": [
    "![imagenes](logo.png)"
   ]
  },
  {
   "cell_type": "markdown",
   "metadata": {},
   "source": [
    "# Importado y datos de tipo \"tidy\"\n",
    "\n",
    "En nuestra experiencia, podemos decir que un dataframe en **R** es una representación de datos similar a una hoja de cálculo rectangular donde las filas corresponden a las observaciones y las columnas corresponden a las variables que describen cada observación. En el **Capítulo 2** creamos visualizaciones basadas en los datos incluidos en los vuelos y otros dataframes, como el de clima. En el **Capítulo 3** aprendimos cómo tomar dataframes existentes y transformarlos/modificarlos para adaptarlos a nuestros fines.\n",
    "\n",
    "En este capítulo final ampliaremos algunas de estas ideas discutiendo un tipo de formato de datos llamado **datos \"tidy\"**. Verás que tener datos almacenados en formato \"ordenado\" es más que lo que podría sugerir la definición cotidiana del término \"ordenado\": tener sus datos \"ordenados\". En cambio, definimos el término \"ordenado\" como lo usan los científicos de datos que usan **R**, describiendo un conjunto de reglas por las cuales se guardan los datos.\n",
    "\n",
    "El conocimiento de este tipo de formato de datos no fue necesario para nuestro tratamiento de la visualización de datos en el **Capítulo 2** y el procesamiento de datos en el **Capítulo 3**. Esto se debe a que todos los datos utilizados ya estaban en un formato \"ordenado\". En este capítulo, ahora veremos que este formato es esencial para usar las herramientas que cubrimos hasta ahora. Sin embargo, primero mostraremos cómo importar datos de hojas de cálculo en **R**."
   ]
  }
 ],
 "metadata": {
  "kernelspec": {
   "display_name": "R",
   "language": "R",
   "name": "ir"
  },
  "language_info": {
   "codemirror_mode": "r",
   "file_extension": ".r",
   "mimetype": "text/x-r-source",
   "name": "R",
   "pygments_lexer": "r",
   "version": "3.6.1"
  }
 },
 "nbformat": 4,
 "nbformat_minor": 4
}
