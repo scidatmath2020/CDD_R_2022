{
 "cells": [
  {
   "cell_type": "markdown",
   "metadata": {},
   "source": [
    "![imagenes](logo.png)"
   ]
  },
  {
   "cell_type": "markdown",
   "metadata": {},
   "source": [
    "# Gráficos de caja (boxplots)\n",
    "\n",
    "Si bien los histogramas facetados son un tipo de visualización que se utiliza para comparar la distribución de una variable numérica dividida por los valores de otra variable, otro tipo de visualización que logra este mismo objetivo es un diagrama de caja en paralelo. Un diagrama de caja se construye a partir de la información provista en el resumen de cinco números de una variable numérica (mira nuestro repositorio de [Python y R en estadística multivariante](https://github.com/scidatmath2020/Python-y-R-en-Estadistica-Multivariante/blob/main/Mod1_Espacios_Multivariantes/C02.1%20Visualizaci%C3%B3n%20de%20datos%20(boxplots).ipynb) para una explicación mas técnica sobre los bolxplots).\n",
    "\n",
    "Para simplificar las cosas por ahora, solo consideremos los 2141 registros de temperatura por hora para el mes de noviembre, cada uno representado como un punto de fluctuación."
   ]
  },
  {
   "cell_type": "markdown",
   "metadata": {},
   "source": [
    "![imagenes](im003.png)"
   ]
  },
  {
   "cell_type": "markdown",
   "metadata": {},
   "source": [
    "Estas 2141 observaciones tienen el siguiente resumen:\n",
    "\n",
    "* Mínimo: 21°F\n",
    "* Primer cuartil (percentil 25): 36 °F\n",
    "* Mediana (segundo cuartil, percentil 50): 45 °F\n",
    "* Tercer cuartil (percentil 75): 52°F\n",
    "* Máximo: 71°F\n",
    "\n",
    "En el gráfico más a la izquierda de la siguiente figura, marquemos estos 5 valores con líneas horizontales discontinuas sobre los 2141 puntos. En el diagrama central, agreguemos el diagrama de caja. En el gráfico más a la derecha, eliminemos los puntos y las líneas horizontales discontinuas para mayor claridad."
   ]
  },
  {
   "cell_type": "markdown",
   "metadata": {},
   "source": [
    "![imagenes](im004.png)"
   ]
  },
  {
   "cell_type": "markdown",
   "metadata": {},
   "source": [
    "Lo que hace el diagrama de caja es resumir visualmente los 2141 puntos cortando los registros de temperatura de 2141 en cuartiles en las líneas discontinuas, donde cada cuartil contiene aproximadamente $2141/4\\sim535$ observaciones. De este modo\n",
    "\n",
    "* El 25% de los puntos se encuentran por debajo del borde inferior de la caja, que es el primer cuartil de 36 °F. En otras palabras, el 25% de las observaciones estuvieron por debajo de los 36 °F.\n",
    "\n",
    "* El 25% de los puntos se encuentran entre el borde inferior de la caja y la línea central continua, que es la mediana de 45 °F. Por lo tanto, el 25% de las observaciones estuvo entre 36 °F y 45 °F y el 50% de las observaciones estuvo por debajo de 45 °F.\n",
    "\n",
    "* El 25% de los puntos se encuentran entre la línea media continua y el borde superior del cuadro, que es el tercer cuartil de 52 °F. De ello se deduce que el 25% de las observaciones estuvieron entre 45 °F y 52 °F y el 75% de las observaciones estuvieron por debajo de 52 °F.\n",
    "\n",
    "* El 25% de los puntos caen por encima del borde superior de la caja. En otras palabras, el 25% de las observaciones estuvieron por encima de los 52 °F.\n",
    "\n",
    "* El 50% medio de los puntos se encuentran dentro del rango intercuartil (IQR) entre el primer y el tercer cuartil. Por lo tanto, el IQR para este ejemplo es 52 - 36 = 16°F. El rango intercuartílico es una medida de la dispersión de una variable numérica."
   ]
  },
  {
   "cell_type": "markdown",
   "metadata": {},
   "source": [
    "Además, en la gráfica más a la derecha de la figura anterior, vemos los bigotes de la gráfica de caja. Los bigotes sobresalen de cada extremo de la caja hasta las temperaturas mínima y máxima observadas de 21 °F y 71 °F, respectivamente. Sin embargo, los bigotes no siempre se extienden a los valores observados más pequeños y más grandes como lo hacen aquí. De hecho, no se extienden más de 1.5 x el rango intercuartil de cualquier extremo de la caja. En este caso de las temperaturas de noviembre, no más de 1.5 x 16°F = 24°F desde cualquier extremo de la caja. Cualquier valor observado fuera de este rango se marca con puntos llamados valores atípicos, que veremos en la siguiente sección."
   ]
  },
  {
   "cell_type": "markdown",
   "metadata": {},
   "source": [
    "## Gráficos de caja con ggplot\n",
    "\n",
    "Ahora vamos a crear un diagrama de caja de lado a lado de las temperaturas por hora divididas por los 12 meses como lo hicimos anteriormente con los histogramas facetados. Hacemos esto mapeando la variable del mes ``month`` a la estética de la posición x, la variable ``temp`` a la estética de la posición y, y agregando una capa ``geom_boxplot()``:"
   ]
  },
  {
   "cell_type": "code",
   "execution_count": null,
   "metadata": {},
   "outputs": [],
   "source": [
    "library(tidyverse)\n",
    "library(nycflights13)"
   ]
  },
  {
   "cell_type": "code",
   "execution_count": null,
   "metadata": {},
   "outputs": [],
   "source": [
    "ggplot(data = weather, mapping = aes(x = month,y = temp)) +\n",
    "  geom_boxplot()"
   ]
  },
  {
   "cell_type": "markdown",
   "metadata": {},
   "source": [
    "Observa que esta gráfica no proporciona información sobre la temperatura separada por mes. El primer mensaje de advertencia nos da pistas sobre por qué. Nos dice que tenemos una variable \"continua\" o numérica en la estética de la posición x. Los diagramas de caja, sin embargo, requieren que se asigne una variable categórica a la estética de la posición x. El segundo mensaje de advertencia es idéntico al mensaje de advertencia al trazar un histograma de temperaturas por hora: que falta uno de los valores registrados como ``NA``.\n",
    "\n",
    "Podemos convertir la variable numérica mes en una variable categórica factorial usando la función ``factor()``. Entonces, después de aplicar el ``factor(month)``, el mes pasa de tener valores numéricos solo 1, 2, … y 12 a tener un orden asociado. Con este orden, ``ggplot()`` ahora sabe cómo trabajar con esta variable para producir el gráfico necesario."
   ]
  },
  {
   "cell_type": "code",
   "execution_count": null,
   "metadata": {},
   "outputs": [],
   "source": [
    "ggplot(data = weather, mapping = aes(x = factor(month), y = temp)) +\n",
    "  geom_boxplot()"
   ]
  },
  {
   "cell_type": "markdown",
   "metadata": {},
   "source": [
    "La gráfica resultante muestra 12 gráficas separadas de \"caja y bigotes\". Por lo tanto, los diferentes diagramas de caja se muestran \"uno al lado del otro\".\n",
    "\n",
    "Las porciones de \"caja\" de la visualización representan el primer cuartil, la mediana (el segundo cuartil) y el tercer cuartil.\n",
    "La altura de cada caja (el valor del 3er cuartil menos el valor del 1er cuartil) es el rango intercuartílico (RIC). Es una medida de la dispersión del 50% medio de los valores, con cuadros más largos que indican una mayor variabilidad.\n",
    "\n",
    "Las porciones de \"bigotes\" de estos gráficos se extienden desde la parte inferior y superior de las cajas y representan puntos menores que el percentil 25 y mayores que los percentiles 75, respectivamente. Están configurados para extenderse no más de\n",
    "1.5 x RIC unidades de distancia de cualquier extremo de las cajas. Decimos \"no más que\" porque los extremos de los bigotes tienen que corresponder a las temperaturas observadas. \n",
    "\n",
    "La longitud de estos bigotes muestra cómo varían los datos fuera del 50% medio de los valores, y los bigotes más largos indican una mayor variabilidad.\n",
    "\n",
    "Los puntos que representan valores que caen fuera de los bigotes se denominan valores atípicos. Estos pueden considerarse valores anómalos (\"fuera de lo común\").\n",
    "\n",
    "Es importante tener en cuenta que la definición de un valor atípico es algo arbitraria y no absoluta. En este caso, se definen por la longitud de los bigotes, que no superan los 1.5 x RIC unidades de longitud para cada diagrama de caja. Si observamos este gráfico de lado a lado, podemos ver, como se esperaba, que los meses de verano (del 6 al 8) tienen temperaturas medianas más altas, como lo demuestran las líneas continuas más altas en el medio de los recuadros. \n",
    "\n",
    "Podemos comparar fácilmente las temperaturas entre meses dibujando líneas horizontales imaginarias a lo largo de la gráfica. Además, las alturas de las 12 cajas cuantificadas por los rangos intercuartílicos también son informativas; nos informan sobre la variabilidad, o dispersión, de las temperaturas registradas en un mes determinado."
   ]
  },
  {
   "cell_type": "markdown",
   "metadata": {},
   "source": [
    "---\n",
    "---\n",
    "\n",
    "**Ejercicios.**\n",
    "\n",
    "**2.6.1.** ¿A qué corresponde el punto en la parte inferior de la gráfica de mayo? Explique qué podría haber ocurrido en mayo para producir este punto.\n",
    "\n",
    "**2.6.2.** ¿Qué meses tienen la mayor variabilidad de temperatura? ¿Qué razones puedes dar para esto?\n",
    "\n",
    "**2.6.3.** Observamos la distribución de la variable numérica ``temp`` dividida por la variable numérica ``month`` que convertimos usando la función ``factor()`` para hacer un diagrama de caja de lado a lado. ¿Por qué un diagrama de caja de ``temp`` por la variable numérica presión ``pressure`` convertida de manera similar en una variable categórica usando ``factor()`` no sería informativo?\n",
    "\n",
    "**2.6.4.** Los diagramas de caja brindan una forma sencilla de identificar valores atípicos. ¿Por qué los valores atípicos pueden ser más fáciles de identificar cuando se observa un diagrama de caja en lugar de un histograma facetado?\n",
    "\n",
    "---\n",
    "---"
   ]
  },
  {
   "cell_type": "markdown",
   "metadata": {},
   "source": [
    "## En resumen...\n",
    "\n",
    "Los diagramas de caja uno al lado del otro nos brindan una manera de comparar la distribución de una variable numérica a través de múltiples valores de otra variable. Se puede ver dónde cae la mediana en los diferentes grupos comparando las líneas continuas en el centro de las cajas.\n",
    "\n",
    "Para estudiar la dispersión de una variable numérica dentro de una de las cajas, mira tanto la longitud de la caja como la extensión de los bigotes desde cada extremo de la caja. Los valores atípicos se identifican incluso más fácilmente cuando se observa un diagrama de caja que cuando se observa un histograma, ya que están marcados con puntos distintos."
   ]
  }
 ],
 "metadata": {
  "kernelspec": {
   "display_name": "R",
   "language": "R",
   "name": "ir"
  },
  "language_info": {
   "codemirror_mode": "r",
   "file_extension": ".r",
   "mimetype": "text/x-r-source",
   "name": "R",
   "pygments_lexer": "r",
   "version": "3.6.1"
  }
 },
 "nbformat": 4,
 "nbformat_minor": 4
}
