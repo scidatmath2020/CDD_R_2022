{
 "cells": [
  {
   "cell_type": "markdown",
   "metadata": {},
   "source": [
    "![imagenes](logo.png)"
   ]
  },
  {
   "cell_type": "markdown",
   "metadata": {},
   "source": [
    "# Importado de datos\n",
    "\n",
    "Hasta este punto, hemos utilizado casi por completo los datos almacenados dentro de un paquete **R**. Digamos, en cambio, que tiene sus propios datos guardados en su computadora o en algún lugar en línea. ¿Cómo puedes analizar estos datos en **R**? Los datos de la hoja de cálculo a menudo se guardan en uno de los siguientes tres formatos:\n",
    "\n",
    "Primero, los archivo valores separados por comas ``.csv``. Puedes pensar en un archivo ``.csv`` como una hoja de cálculo básica donde:\n",
    "\n",
    "* Cada línea del archivo corresponde a una fila de datos/una observación.\n",
    "* Los valores de cada línea se separan con comas. En otras palabras, los valores de diferentes variables están separados por comas en cada fila.\n",
    "* La primera línea suele ser, aunque no siempre, una fila de encabezado que indica los nombres de las columnas/variables.\n",
    "\n",
    "En segundo lugar, un archivo de hoja de cálculo **Excel** ``.xlsx``. Este formato se basa en **Excel** de Microsoft. A diferencia de los archivos ``.csv`` básicos, los archivos ``.xlsx`` de **Excel** contienen una gran cantidad de metadatos (datos sobre datos). Recuerde que vimos un ejemplo anterior de metadatos en el capítulo anterior al agregar metadatos de \"estructura de grupo\" a un dataframe usando ``group_by()``. Algunos ejemplos de metadatos de hojas de cálculo de **Excel** incluyen el uso de fuentes en negrita y cursiva, celdas de colores, diferentes anchos de columna y macros de fórmula.\n",
    "\n",
    "En tercer lugar, un archivo de Hojas de cálculo de Google, que es una \"nube\" o una forma en línea de trabajar con una hoja de cálculo. Las hojas de cálculo de Google te permiten descargar tus datos en formato de valores separados por comas ``.csv`` y **Excel** ``.xlsx``. Una forma de importar datos de Hojas de cálculo de Google en **R** es ir a la barra de menú de Hojas de cálculo de Google -> Archivo -> Descargar como -> Seleccionar \"Microsoft Excel\" o \"Valores separados por comas\" y luego cargar esos datos en **R**. Una forma más avanzada de importar datos de Google Sheets en **R** es mediante el paquete ``googlesheets``.\n",
    "\n",
    "Cubriremos dos métodos para importar datos de hojas de cálculo ``.csv`` y ``.xlsx`` en **R**: uno usando la consola y el otro usando la interfaz gráfica de usuario de **RStudio**, abreviada como \"GUI\"."
   ]
  },
  {
   "cell_type": "markdown",
   "metadata": {},
   "source": [
    "## Usando la consola\n",
    "\n",
    "Primero, importemos un archivo ``.csv`` de valores separados por comas que existe en Internet. El archivo ``dem_score.csv`` contiene clasificaciones del nivel de democracia en diferentes países desde 1952 hasta 1992 y está disponible en [nuestro repositorio](https://github.com/scidatmath2020/Prueba/blob/master/dem_score.csv). Descargalo en tu pc.\n",
    "\n",
    "Usemos la función ``read_csv()`` del paquete ``readr`` (que está dentro de ``tidyverse``) para leerlo de la web, importarlo a **R** y guardarlo en un dataframe llamado ``dem_score``. La sintaxis de ``read_csv()`` es ``read_csv(\"RUTA DONDE GUARDASTE EL ARCHIVO\\\\NOMBRE DEL ARCHIVO.csv\")``"
   ]
  },
  {
   "cell_type": "code",
   "execution_count": null,
   "metadata": {},
   "outputs": [],
   "source": [
    "library(tidyverse)"
   ]
  },
  {
   "cell_type": "code",
   "execution_count": null,
   "metadata": {},
   "outputs": [],
   "source": [
    "dem_score <- read_csv(\"C:\\\\Users\\\\hp master\\\\Downloads\\\\dem_score.csv\")\n",
    "\n",
    "dem_score"
   ]
  },
  {
   "cell_type": "markdown",
   "metadata": {},
   "source": [
    "En este daraframe ``dem_score``, el valor mínimo de -10 corresponde a una nación altamente autocrática, mientras que un valor de 10 corresponde a una nación altamente democrática. Ten en cuenta también las comillas especiales que rodean los diferentes nombres de variables. Los nombres de variables en **R** por defecto no pueden comenzar con un número ni incluir espacios, pero podemos evitar este hecho rodeando el nombre de la columna con acentos especiales. Revisaremos este dataframe en un estudio de caso más adelante.\n",
    "\n",
    "Tambien, es importante señalar que ``read_csv()`` ,incluida en el paquete ``readr``, es diferente de la función ``read.csv()`` que viene instalada con **R**. Si bien la diferencia en los nombres puede parecer trivial (un _ en lugar de un .), la función ``read_csv()`` es, en nuestra opinión, más fácil de usar ya que puede leer datos de la web más fácilmente y, en general, importa datos a una velocidad mucho más rápida. Además, la guarda los dataframes como tibbles de forma predeterminada."
   ]
  },
  {
   "cell_type": "markdown",
   "metadata": {},
   "source": [
    "## Usando la interfaz de RStudio\n",
    "\n",
    "Leamos exactamente los mismos datos, pero esta vez de un archivo de **Excel** guardado en tu computadora. Además, haremos esto usando la interfaz gráfica de **RStudio** en lugar de ejecutar ``read_csv()`` en la consola. Primero, descargue el archivo de **Excel** ``dem_score.xlsx`` yendo a [nuestro repositorio](https://github.com/scidatmath2020/Prueba/blob/master/dem_score.xlsx). Descarge ese archivo a tu pc. Luego:\n",
    "\n",
    "1. Vaya al panel Archivos de **RStudio** y luego a \"importado\".\n",
    "2. Navegue hasta el directorio (es decir, la carpeta en su computadora) donde se guarda el archivo de **Excel** ``dem_score.xlsx`` descargado. Por ejemplo, esto podría estar en tu carpeta de Descargas.\n",
    "3. Haga clic en ``dem_score.xlsx``.\n",
    "4. Haga clic en \"Importar conjunto de datos...\"\n",
    "5. En este punto, debería ver una pantalla emergente como en la figura siguiente. Después de hacer clic en el botón \"Importar\" en la parte inferior derecha de la figura, **RStudio** guardará los datos de esta hoja de cálculo en un dataframe llamado ``dem_score`` y mostrará su contenido en el visor de hojas de cálculo."
   ]
  },
  {
   "cell_type": "markdown",
   "metadata": {},
   "source": [
    "![imagenes](im013.png)"
   ]
  },
  {
   "cell_type": "markdown",
   "metadata": {},
   "source": [
    "Observa el bloque \"Vista previa del código\" en la parte inferior derecha de la figura anterior. Puedes copiar y pegar este código para volver a cargar tus datos más tarde mediante programación en consola, en lugar de repetir este proceso manual de apuntar y hacer clic."
   ]
  }
 ],
 "metadata": {
  "kernelspec": {
   "display_name": "R",
   "language": "R",
   "name": "ir"
  },
  "language_info": {
   "codemirror_mode": "r",
   "file_extension": ".r",
   "mimetype": "text/x-r-source",
   "name": "R",
   "pygments_lexer": "r",
   "version": "3.6.1"
  }
 },
 "nbformat": 4,
 "nbformat_minor": 4
}
