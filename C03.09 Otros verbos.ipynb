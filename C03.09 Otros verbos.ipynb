{
 "cells": [
  {
   "cell_type": "markdown",
   "metadata": {},
   "source": [
    "![imagenes](logo.png)"
   ]
  },
  {
   "cell_type": "markdown",
   "metadata": {},
   "source": [
    "# Otros verbos\n",
    "\n",
    "Aquí hay algunos otros verbos útiles para procesamiento de datos:\n",
    "\n",
    "* ``select()`` selecciona solo un subconjunto de variables/columnas.\n",
    "* ``rename()`` renombra variables/columnas para tener nuevos nombres.\n",
    "* ``top_n`` devuelve solo los valores *top* de una variable."
   ]
  },
  {
   "cell_type": "code",
   "execution_count": null,
   "metadata": {},
   "outputs": [],
   "source": [
    "library(tidyverse)\n",
    "library(nycflights13)"
   ]
  },
  {
   "cell_type": "markdown",
   "metadata": {},
   "source": [
    "## Seleccionar algunas columnas\n",
    "\n",
    "![imagenes](im012.png)"
   ]
  },
  {
   "cell_type": "markdown",
   "metadata": {},
   "source": [
    "Hemos visto que el dataframe ``flights`` de ``nycflights13`` contiene 19 variables diferentes. Puede identificar los nombres de estas 19 variables ejecutando la función ``names()``:"
   ]
  },
  {
   "cell_type": "code",
   "execution_count": null,
   "metadata": {},
   "outputs": [],
   "source": [
    "names(flights)"
   ]
  },
  {
   "cell_type": "markdown",
   "metadata": {},
   "source": [
    "Sin embargo, supongamos que solo necesitas dos de estas 19 variables, por ejemplo, la aerolínea ``carrier`` y el vuelo ``flight``. Utilizamos ``select()`` con estas dos variables:"
   ]
  },
  {
   "cell_type": "code",
   "execution_count": null,
   "metadata": {},
   "outputs": [],
   "source": [
    "flights %>%\n",
    "    select(carrier,flight)"
   ]
  },
  {
   "cell_type": "markdown",
   "metadata": {},
   "source": [
    "Esta función facilita la exploración de grandes conjuntos de datos, ya que nos permite limitar el alcance solo a aquellas variables que más nos interesan. Por ejemplo, si hacemos ``select()`` a solo un número menor de variables, hará que la visualización del conjunto de datos en el visor de hojas de cálculo de **RStudio** sea más digerible.\n",
    "\n",
    "Digamos que, en cambio, desea eliminar o anular la selección de ciertas variables. Por ejemplo, considere la variable ``year`` en el ``flights``. Esta variable no es exactamente una \"variable\" porque siempre es 2013 y, por lo tanto, no cambia. Digamos que desea eliminar esta variable del dataframe. Podemos deseleccionar el año usando el signo ``-``:"
   ]
  },
  {
   "cell_type": "code",
   "execution_count": null,
   "metadata": {},
   "outputs": [],
   "source": [
    "flights_no_year <- flights %>% select(-year)\n",
    "\n",
    "flights_no_year"
   ]
  },
  {
   "cell_type": "markdown",
   "metadata": {},
   "source": [
    "Otra forma de seleccionar columnas/variables es especificando un rango de columnas:"
   ]
  },
  {
   "cell_type": "code",
   "execution_count": null,
   "metadata": {},
   "outputs": [],
   "source": [
    "flights %>% \n",
    "    select(month:day, arr_time:arr_delay)"
   ]
  },
  {
   "cell_type": "markdown",
   "metadata": {},
   "source": [
    "La función ``select()`` también se puede usar para reordenar columnas cuando se usa con la función auxiliar ``everything()``. Por ejemplo, supongamos que queremos que las variables ``hour``, ``minute`` y ``time_hour`` aparezcan inmediatamente después de las variables ``year``, ``month`` y ``day``, sin descartar el resto de las variables. En el siguiente código, ``everything()`` recogerá todas las variables restantes:"
   ]
  },
  {
   "cell_type": "code",
   "execution_count": null,
   "metadata": {},
   "outputs": [],
   "source": [
    "flights_reorder <- flights %>% \n",
    "  select(year, month, day, hour, minute, time_hour, everything())\n",
    "\n",
    "flights_reorder"
   ]
  },
  {
   "cell_type": "markdown",
   "metadata": {},
   "source": [
    "Por último, las funciones auxiliares ``starts_with()``, ``ends_with()`` y ``contains()`` se pueden usar para seleccionar variables/columnas que coincidan con esas condiciones. Como ejemplos:"
   ]
  },
  {
   "cell_type": "code",
   "execution_count": null,
   "metadata": {},
   "outputs": [],
   "source": [
    "flights %>% select(starts_with(\"a\"))"
   ]
  },
  {
   "cell_type": "code",
   "execution_count": null,
   "metadata": {},
   "outputs": [],
   "source": [
    "flights %>% select(ends_with(\"delay\"))"
   ]
  },
  {
   "cell_type": "code",
   "execution_count": null,
   "metadata": {},
   "outputs": [],
   "source": [
    "flights %>% select(contains(\"time\"))"
   ]
  },
  {
   "cell_type": "markdown",
   "metadata": {},
   "source": [
    "## Renombrar variables\n",
    "\n",
    "Otra función útil es ``rename()``, que como habrás adivinado cambia el nombre de las variables. Supongamos que queremos centrarnos solo en ``dep_time`` y ``arr_time`` y cambiar ``dep_time`` y ``arr_time`` para que se llamen ``departure_time`` y ``arrival_time``:"
   ]
  },
  {
   "cell_type": "code",
   "execution_count": null,
   "metadata": {},
   "outputs": [],
   "source": [
    "fligths_new_names <- flights %>%\n",
    "  select(dep_time, arr_time) %>%\n",
    "  rename(departure_time = dep_time , arrival_time = arr_time)\n",
    "\n",
    "fligths_new_names"
   ]
  },
  {
   "cell_type": "markdown",
   "metadata": {},
   "source": [
    "Tenga en cuenta que en este caso usamos un solo signo ``=`` dentro del ``rename()``. Por ejemplo, ``departure_time = dep_time`` cambia el nombre de la variable ``dep_time`` por el nuevo nombre ``departure_time``. Esto se debe a que no estamos probando la igualdad como lo haríamos con ``==``.\n",
    "\n",
    "Además, observa que el nuevo nombre de la variable viene antes del signo igual."
   ]
  },
  {
   "cell_type": "markdown",
   "metadata": {},
   "source": [
    "## top de n valores de una variable\n",
    "\n",
    "También podemos devolver los primeros $n$ valores de una variable usando la función ``top_n()``. Por ejemplo, podemos devolver un dataframe de los 10 principales aeropuertos de destino usando el ejemplo de la Sección **C03.08**. Observa que establecemos el número de valores ``n = 10`` para devolver y ``wt = num_flights`` para indicar que queremos las filas correspondientes a los 10 valores principales de ``num_flights``. Consulta el archivo de ayuda de ``top_n()`` ejecutando ``?top_n`` para obtener más información."
   ]
  },
  {
   "cell_type": "code",
   "execution_count": null,
   "metadata": {},
   "outputs": [],
   "source": [
    "named_dests <- flights %>%\n",
    "  group_by(dest) %>%\n",
    "  summarize(num_flights = n()) %>%\n",
    "  inner_join(airports, by = c(\"dest\" = \"faa\")) %>%\n",
    "  rename(airport_name = name) \n",
    "\n",
    "named_dests"
   ]
  },
  {
   "cell_type": "code",
   "execution_count": null,
   "metadata": {},
   "outputs": [],
   "source": [
    "named_dests %>% top_n(n = 10, wt = num_flights)"
   ]
  },
  {
   "cell_type": "markdown",
   "metadata": {},
   "source": [
    "Ordenemos con ``arrange()`` estos resultados en orden descendente de ``num_flights``:"
   ]
  },
  {
   "cell_type": "code",
   "execution_count": null,
   "metadata": {},
   "outputs": [],
   "source": [
    "named_dests %>% \n",
    "    top_n(n = 10, wt = num_flights) %>%\n",
    "    arrange(desc(num_flights))"
   ]
  },
  {
   "cell_type": "markdown",
   "metadata": {},
   "source": [
    "---\n",
    "---\n",
    "\n",
    "**Ejercicios.**\n",
    "\n",
    "**3.9.1.** ¿Cuáles son algunas formas de seleccionar las tres variables destino ``dest``, tiempo en el aire ``air_time`` y distancia ``distance`` de los vuelos? Proporcione el código que muestra cómo hacer esto en al menos tres formas diferentes.\n",
    "\n",
    "**3.9.2.**  ¿Cómo podría uno usar ``starts_with()``, ``ends_with()`` y ``contains()`` para seleccionar columnas del datafame de vuelos? Proporcione tres ejemplos diferentes en total: uno para ``starts_with()``, otro para ``ends_with()`` y otro para ``contains()``.\n",
    "\n",
    "**3.9.3.** ¿Por qué querríamos usar la función de selección en un dataframe?\n",
    "\n",
    "**3.9.4.** Cree un nuevo dataframe que muestre los 5 principales aeropuertos con los mayores retrasos en las llegadas desde la ciudad de Nueva York en 2013.\n",
    "\n",
    "---\n",
    "---"
   ]
  }
 ],
 "metadata": {
  "kernelspec": {
   "display_name": "R",
   "language": "R",
   "name": "ir"
  },
  "language_info": {
   "codemirror_mode": "r",
   "file_extension": ".r",
   "mimetype": "text/x-r-source",
   "name": "R",
   "pygments_lexer": "r",
   "version": "3.6.1"
  }
 },
 "nbformat": 4,
 "nbformat_minor": 4
}
