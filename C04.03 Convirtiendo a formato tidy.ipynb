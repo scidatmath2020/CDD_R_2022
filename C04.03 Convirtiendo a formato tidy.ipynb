{
 "cells": [
  {
   "cell_type": "markdown",
   "metadata": {},
   "source": [
    "![imagenes](logo.png)"
   ]
  },
  {
   "cell_type": "markdown",
   "metadata": {},
   "source": [
    "# Convirtiendo a formato tidy\n",
    "\n",
    "Hasta ahora, solo has visto dataframes que ya estaban en formato \"ordenado\". Sin embargo, este no es siempre el caso con todos los dataframes del mundo. Si tu dataframe original está en formato ancho (no \"ordenado\") y deseas utilizar los paquetes ``ggplot2`` o ``dplyr``, primero deberás convertirlo al formato \"ordenado\". Para hacerlo, recomendamos usar la función ``pivot_longer()`` en el paquete ``tidyr`` de ``tidyverse``.\n",
    "\n",
    "Volviendo a nuestro dataframe ``drinks_smaller`` de antes:"
   ]
  },
  {
   "cell_type": "code",
   "execution_count": null,
   "metadata": {},
   "outputs": [],
   "source": [
    "library(fivethirtyeight)\n",
    "library(tidyverse)\n",
    "\n",
    "drinks_smaller <- drinks %>%\n",
    "    filter(country %in% c(\"USA\",\"China\",\"Italy\",\"Saudi Arabia\",\"Mexico\")) %>%\n",
    "    select(-total_litres_of_pure_alcohol) %>%\n",
    "    rename(beer = beer_servings, spirit = spirit_servings, wine = wine_servings)\n",
    "\n",
    "drinks_smaller"
   ]
  },
  {
   "cell_type": "markdown",
   "metadata": {},
   "source": [
    "Lo convertimos a formato \"ordenado\" usando la función ``pivot_longer()`` de la siguiente manera:"
   ]
  },
  {
   "cell_type": "code",
   "execution_count": null,
   "metadata": {},
   "outputs": [],
   "source": [
    "drinks_smaller_tidy <- drinks_smaller %>% \n",
    "  pivot_longer(names_to = \"type\", \n",
    "               values_to = \"servings\", \n",
    "               cols = -country)\n",
    "\n",
    "drinks_smaller_tidy"
   ]
  },
  {
   "cell_type": "markdown",
   "metadata": {},
   "source": [
    "Establecemos los argumentos para ``pivot_longer()`` de la siguiente manera:\n",
    "\n",
    "* ``names_to`` aquí corresponde al nombre de la variable en el nuevo marco de datos \"ordenado\"/largo que contendrá los nombres de las columnas de los datos originales. Observe cómo establecemos ``names_to = \"type\"``. En el ``drinks_smaller_tidy`` resultante, la columna ``type`` contiene los tres tipos de bebidas. Dado que el ``type`` es un nombre de variable que no aparece en ``drinks_smaller``, usamos comillas a su alrededor. Recibirás un error si solo escribes ``names_to = type``.\n",
    "\n",
    "\n",
    "* ``values_to`` aquí es el nombre de la variable en el nuevo marco de datos \"ordenado\" que contendrá los valores de los datos originales. Observe cómo establecemos ``values_to = \"servings\"`` ya que cada uno de los valores numéricos en cada una de las columnas de cerveza, vino y licores de los datos de ``drinks_smaller`` corresponde a un valor de ``servings``. En ``drinks_smaller_tidy``, la columna ``servings`` contiene los 5 x 3 = 15 valores numéricos. Ten en cuenta nuevamente que la variable ``servings`` no aparece como una variable en ``drinks_smaller``, por lo que nuevamente necesita comillas para el argumento ``valuest_to``.\n",
    "\n",
    "* El tercer argumento ``cols`` son las columnas en el marco de datos ``drinks_smaller`` que desea o no desea \"ordenar\". Observa cómo establecemos esto en ``-country``, lo que indica que no queremos \"ordenar\" la variable de país de ``drinks_smaller`` y más bien solo cerveza, licor y vino. Dado que el país es una columna que aparece en ``drinks_smaller``, no le ponemos comillas.\n",
    "\n",
    "El tercer argumento (``cols``) está un poco matizado, así que consideremos un código que está escrito de forma ligeramente diferente pero que produce el mismo resultado:"
   ]
  },
  {
   "cell_type": "code",
   "execution_count": null,
   "metadata": {},
   "outputs": [],
   "source": [
    "drinks_smaller %>% \n",
    "  pivot_longer(names_to = \"type\", \n",
    "               values_to = \"servings\", \n",
    "               cols = c(beer, spirit, wine))"
   ]
  },
  {
   "cell_type": "markdown",
   "metadata": {},
   "source": [
    "Nota que el argumento ``cols`` ahora especifica qué columnas queremos \"ordenar\" con ``c(beer, spirit, wine)``, en lugar de las columnas que no queremos \"ordenar\" usando ``-country``. Usamos la función ``c()`` para crear un vector de las columnas de ``drinks_smaller`` que nos gustaría \"ordenar\". Ten en cuenta que dado que estas tres columnas aparecen una tras otra en ``drinks_smaller``, también podríamos hacer lo siguiente para el argumento ``cols``:"
   ]
  },
  {
   "cell_type": "code",
   "execution_count": null,
   "metadata": {},
   "outputs": [],
   "source": [
    "drinks_smaller %>% \n",
    "  pivot_longer(names_to = \"type\", \n",
    "               values_to = \"servings\", \n",
    "               cols = beer:wine)"
   ]
  },
  {
   "cell_type": "markdown",
   "metadata": {},
   "source": [
    "Con nuestro dataframe ``drinks_smaller_tidy`` ya en formato \"tidy\", podemos producir el diagrama de barras que vimos en la sección anterior usando ``geom_col()``. Observa que usamos ``geom_col()`` y no ``geom_bar()``, ya que nos gustaría mapear la variable de porciones \"precontadas\" a la estética y de las barras."
   ]
  },
  {
   "cell_type": "code",
   "execution_count": null,
   "metadata": {},
   "outputs": [],
   "source": [
    "ggplot(data = drinks_smaller_tidy, aes(x = country)) + \n",
    "    geom_col(aes(y = servings, fill = type),position = \"dodge\")"
   ]
  },
  {
   "cell_type": "markdown",
   "metadata": {},
   "source": [
    "La conversión de datos de formato \"ancho\" a formato \"ordenado\" a menudo confunde a los nuevos usuarios de **R**. La única forma de aprender a familiarizarse con la función ``pivot_longer()`` es con práctica, práctica y más práctica utilizando diferentes conjuntos de datos. Por ejemplo, ejecute ``?pivot_longer`` y observa los ejemplos en la parte inferior del archivo de ayuda. \n",
    "\n",
    "Sin embargo, si deseas convertir un marco de datos \"ordenado\" a un formato \"ancho\", deberás usar la función ``pivot_wider()`` en su lugar. Ejecuta ``?pivot_wider`` y mira los ejemplos en la parte inferior del archivo de ayuda para ver ejemplos.\n",
    "\n",
    "También puedes ver ejemplos de ``pivot_longer()`` y ``pivot_wider()`` en la página web [tidyverse.org](https://tidyr.tidyverse.org/dev/articles/pivot.html#pew). Hay un buen ejemplo para ver las diferentes funciones disponibles para ordenar datos y un estudio de caso usando datos de la Organización Mundial de la Salud en esa página web. Además, cada semana, la comunidad de aprendizaje en línea de R4DS publica un conjunto de datos en el evento semanal [#TidyTuesday](https://github.com/rfordatascience/tidytuesday) que puede servirte como un buen lugar para encontrar otros datos para explorar y transformar.\n",
    "\n",
    "---\n",
    "---\n",
    "\n",
    "**Ejercicios**\n",
    "\n",
    "**4.3.1.** Eche un vistazo al dataframe ``airline_safety`` incluido en el paquete ``fivethirtyeight``. Ejecuta lo siguiente:"
   ]
  },
  {
   "cell_type": "code",
   "execution_count": null,
   "metadata": {},
   "outputs": [],
   "source": [
    "airline_safety"
   ]
  },
  {
   "cell_type": "markdown",
   "metadata": {},
   "source": [
    "Después de leer el archivo de ayuda ejecutando ``?airline_safety``, vemos que ``airline_safety`` es un dataframe que contiene información sobre los registros de seguridad de diferentes compañías aéreas. Estos datos se informaron originalmente en el sitio web de periodismo de datos FiveThirtyEight.com en el artículo de Nate Silver, [\"Should Travelers Avoid Flying Airlines That Have Had Crashes in the Past?”](https://fivethirtyeight.com/features/should-travelers-avoid-flying-airlines-that-have-had-crashes-in-the-past/). Consideremos solo las variables aerolíneas ``airlines`` y las relativas a total de muertes (``fatalities_85_89`` y ``fatalities_00_14``):"
   ]
  },
  {
   "cell_type": "code",
   "execution_count": null,
   "metadata": {},
   "outputs": [],
   "source": [
    "airline_safety_smaller <- airline_safety %>%\n",
    "    select(airline,starts_with(\"fatalities\"))\n",
    "\n",
    "airline_safety_smaller"
   ]
  },
  {
   "cell_type": "markdown",
   "metadata": {},
   "source": [
    "Este dataframe no está en formato \"ordenado\". ¿Cómo convertirías este datafrmae para que esté en formato \"ordenado\"? En particular para que tenga una variable ``fatalities_years`` que indique el año del incidente y un recuento variable de los recuentos de fatalidades. Es decir, obtener la siguiente tabla de abajo. Observa que cada aerolínea aparece tres veces: fatalidades en 85-89, fatalidades de 00-14 y el total de fatalidades; además nota también el orden en que aparecen (primero total, luego 85-89 y finalmente 00-14)\n",
    "\n",
    "**Sugerencia:** te puede convenir hacer un mutate primero para calcular los totales y luego aplicar el formato tidy. Luego, agrupa y a cada grupo añádele una columna de índices 1,2,3. Luego ordena cada grupo respecto de ese índice, elimina los grupos con ``ungroup()`` y selecciona las columnas de tu interés.\n",
    "\n",
    "|airline                   |fatalities_type  | fatalities_year|\n",
    "|:-------------------------|:----------------|---------------:|\n",
    "|Aer Lingus                |fatalities_total |               0|\n",
    "|Aer Lingus                |fatalities_00_14 |               0|\n",
    "|Aer Lingus                |fatalities_85_99 |               0|\n",
    "|Aeroflot                  |fatalities_total |             216|\n",
    "|Aeroflot                  |fatalities_00_14 |              88|\n",
    "|Aeroflot                  |fatalities_85_99 |             128|\n",
    "|Aerolineas Argentinas     |fatalities_total |               0|\n",
    "|Aerolineas Argentinas     |fatalities_00_14 |               0|\n",
    "|Aerolineas Argentinas     |fatalities_85_99 |               0|\n",
    "|Aeromexico                |fatalities_total |              64|\n",
    "|Aeromexico                |fatalities_00_14 |               0|\n",
    "|Aeromexico                |fatalities_85_99 |              64|\n",
    "|Air Canada                |fatalities_total |               0|\n",
    "|Air Canada                |fatalities_00_14 |               0|\n",
    "|Air Canada                |fatalities_85_99 |               0|\n",
    "|Air France                |fatalities_total |             416|\n",
    "|Air France                |fatalities_00_14 |             337|\n",
    "|Air France                |fatalities_85_99 |              79|\n",
    "|Air India                 |fatalities_total |             487|\n",
    "|Air India                 |fatalities_00_14 |             158|\n",
    "|Air India                 |fatalities_85_99 |             329|\n",
    "|Air New Zealand           |fatalities_total |               7|\n",
    "|Air New Zealand           |fatalities_00_14 |               7|\n",
    "|Air New Zealand           |fatalities_85_99 |               0|\n",
    "|Alaska Airlines           |fatalities_total |              88|\n",
    "|Alaska Airlines           |fatalities_00_14 |              88|\n",
    "|Alaska Airlines           |fatalities_85_99 |               0|\n",
    "|Alitalia                  |fatalities_total |              50|\n",
    "|Alitalia                  |fatalities_00_14 |               0|\n",
    "|Alitalia                  |fatalities_85_99 |              50|\n",
    "|All Nippon Airways        |fatalities_total |               1|\n",
    "|All Nippon Airways        |fatalities_00_14 |               0|\n",
    "|All Nippon Airways        |fatalities_85_99 |               1|\n",
    "|American                  |fatalities_total |             517|\n",
    "|American                  |fatalities_00_14 |             416|\n",
    "|American                  |fatalities_85_99 |             101|\n",
    "|Austrian Airlines         |fatalities_total |               0|\n",
    "|Austrian Airlines         |fatalities_00_14 |               0|\n",
    "|Austrian Airlines         |fatalities_85_99 |               0|\n",
    "|Avianca                   |fatalities_total |             323|\n",
    "|Avianca                   |fatalities_00_14 |               0|\n",
    "|Avianca                   |fatalities_85_99 |             323|\n",
    "|British Airways           |fatalities_total |               0|\n",
    "|British Airways           |fatalities_00_14 |               0|\n",
    "|British Airways           |fatalities_85_99 |               0|\n",
    "|Cathay Pacific            |fatalities_total |               0|\n",
    "|Cathay Pacific            |fatalities_00_14 |               0|\n",
    "|Cathay Pacific            |fatalities_85_99 |               0|\n",
    "|China Airlines            |fatalities_total |             760|\n",
    "|China Airlines            |fatalities_00_14 |             225|\n",
    "|China Airlines            |fatalities_85_99 |             535|\n",
    "|Condor                    |fatalities_total |              16|\n",
    "|Condor                    |fatalities_00_14 |               0|\n",
    "|Condor                    |fatalities_85_99 |              16|\n",
    "|COPA                      |fatalities_total |              47|\n",
    "|COPA                      |fatalities_00_14 |               0|\n",
    "|COPA                      |fatalities_85_99 |              47|\n",
    "|Delta / Northwest         |fatalities_total |             458|\n",
    "|Delta / Northwest         |fatalities_00_14 |              51|\n",
    "|Delta / Northwest         |fatalities_85_99 |             407|\n",
    "|Egyptair                  |fatalities_total |             296|\n",
    "|Egyptair                  |fatalities_00_14 |              14|\n",
    "|Egyptair                  |fatalities_85_99 |             282|\n",
    "|El Al                     |fatalities_total |               4|\n",
    "|El Al                     |fatalities_00_14 |               0|\n",
    "|El Al                     |fatalities_85_99 |               4|\n",
    "|Ethiopian Airlines        |fatalities_total |             259|\n",
    "|Ethiopian Airlines        |fatalities_00_14 |              92|\n",
    "|Ethiopian Airlines        |fatalities_85_99 |             167|\n",
    "|Finnair                   |fatalities_total |               0|\n",
    "|Finnair                   |fatalities_00_14 |               0|\n",
    "|Finnair                   |fatalities_85_99 |               0|\n",
    "|Garuda Indonesia          |fatalities_total |             282|\n",
    "|Garuda Indonesia          |fatalities_00_14 |              22|\n",
    "|Garuda Indonesia          |fatalities_85_99 |             260|\n",
    "|Gulf Air                  |fatalities_total |             143|\n",
    "|Gulf Air                  |fatalities_00_14 |             143|\n",
    "|Gulf Air                  |fatalities_85_99 |               0|\n",
    "|Hawaiian Airlines         |fatalities_total |               0|\n",
    "|Hawaiian Airlines         |fatalities_00_14 |               0|\n",
    "|Hawaiian Airlines         |fatalities_85_99 |               0|\n",
    "|Iberia                    |fatalities_total |             148|\n",
    "|Iberia                    |fatalities_00_14 |               0|\n",
    "|Iberia                    |fatalities_85_99 |             148|\n",
    "|Japan Airlines            |fatalities_total |             520|\n",
    "|Japan Airlines            |fatalities_00_14 |               0|\n",
    "|Japan Airlines            |fatalities_85_99 |             520|\n",
    "|Kenya Airways             |fatalities_total |             283|\n",
    "|Kenya Airways             |fatalities_00_14 |             283|\n",
    "|Kenya Airways             |fatalities_85_99 |               0|\n",
    "|KLM                       |fatalities_total |               3|\n",
    "|KLM                       |fatalities_00_14 |               0|\n",
    "|KLM                       |fatalities_85_99 |               3|\n",
    "|Korean Air                |fatalities_total |             425|\n",
    "|Korean Air                |fatalities_00_14 |               0|\n",
    "|Korean Air                |fatalities_85_99 |             425|\n",
    "|LAN Airlines              |fatalities_total |              21|\n",
    "|LAN Airlines              |fatalities_00_14 |               0|\n",
    "|LAN Airlines              |fatalities_85_99 |              21|\n",
    "|Lufthansa                 |fatalities_total |               2|\n",
    "|Lufthansa                 |fatalities_00_14 |               0|\n",
    "|Lufthansa                 |fatalities_85_99 |               2|\n",
    "|Malaysia Airlines         |fatalities_total |             571|\n",
    "|Malaysia Airlines         |fatalities_00_14 |             537|\n",
    "|Malaysia Airlines         |fatalities_85_99 |              34|\n",
    "|Pakistan International    |fatalities_total |             280|\n",
    "|Pakistan International    |fatalities_00_14 |              46|\n",
    "|Pakistan International    |fatalities_85_99 |             234|\n",
    "|Philippine Airlines       |fatalities_total |              75|\n",
    "|Philippine Airlines       |fatalities_00_14 |               1|\n",
    "|Philippine Airlines       |fatalities_85_99 |              74|\n",
    "|Qantas                    |fatalities_total |               0|\n",
    "|Qantas                    |fatalities_00_14 |               0|\n",
    "|Qantas                    |fatalities_85_99 |               0|\n",
    "|Royal Air Maroc           |fatalities_total |              51|\n",
    "|Royal Air Maroc           |fatalities_00_14 |               0|\n",
    "|Royal Air Maroc           |fatalities_85_99 |              51|\n",
    "|SAS                       |fatalities_total |             110|\n",
    "|SAS                       |fatalities_00_14 |             110|\n",
    "|SAS                       |fatalities_85_99 |               0|\n",
    "|Saudi Arabian             |fatalities_total |             313|\n",
    "|Saudi Arabian             |fatalities_00_14 |               0|\n",
    "|Saudi Arabian             |fatalities_85_99 |             313|\n",
    "|Singapore Airlines        |fatalities_total |              89|\n",
    "|Singapore Airlines        |fatalities_00_14 |              83|\n",
    "|Singapore Airlines        |fatalities_85_99 |               6|\n",
    "|South African             |fatalities_total |             159|\n",
    "|South African             |fatalities_00_14 |               0|\n",
    "|South African             |fatalities_85_99 |             159|\n",
    "|Southwest Airlines        |fatalities_total |               0|\n",
    "|Southwest Airlines        |fatalities_00_14 |               0|\n",
    "|Southwest Airlines        |fatalities_85_99 |               0|\n",
    "|Sri Lankan / AirLanka     |fatalities_total |              14|\n",
    "|Sri Lankan / AirLanka     |fatalities_00_14 |               0|\n",
    "|Sri Lankan / AirLanka     |fatalities_85_99 |              14|\n",
    "|SWISS                     |fatalities_total |             229|\n",
    "|SWISS                     |fatalities_00_14 |               0|\n",
    "|SWISS                     |fatalities_85_99 |             229|\n",
    "|TACA                      |fatalities_total |               6|\n",
    "|TACA                      |fatalities_00_14 |               3|\n",
    "|TACA                      |fatalities_85_99 |               3|\n",
    "|TAM                       |fatalities_total |             286|\n",
    "|TAM                       |fatalities_00_14 |             188|\n",
    "|TAM                       |fatalities_85_99 |              98|\n",
    "|TAP - Air Portugal        |fatalities_total |               0|\n",
    "|TAP - Air Portugal        |fatalities_00_14 |               0|\n",
    "|TAP - Air Portugal        |fatalities_85_99 |               0|\n",
    "|Thai Airways              |fatalities_total |             309|\n",
    "|Thai Airways              |fatalities_00_14 |               1|\n",
    "|Thai Airways              |fatalities_85_99 |             308|\n",
    "|Turkish Airlines          |fatalities_total |             148|\n",
    "|Turkish Airlines          |fatalities_00_14 |              84|\n",
    "|Turkish Airlines          |fatalities_85_99 |              64|\n",
    "|United / Continental      |fatalities_total |             428|\n",
    "|United / Continental      |fatalities_00_14 |             109|\n",
    "|United / Continental      |fatalities_85_99 |             319|\n",
    "|US Airways / America West |fatalities_total |             247|\n",
    "|US Airways / America West |fatalities_00_14 |              23|\n",
    "|US Airways / America West |fatalities_85_99 |             224|\n",
    "|Vietnam Airlines          |fatalities_total |             171|\n",
    "|Vietnam Airlines          |fatalities_00_14 |               0|\n",
    "|Vietnam Airlines          |fatalities_85_99 |             171|\n",
    "|Virgin Atlantic           |fatalities_total |               0|\n",
    "|Virgin Atlantic           |fatalities_00_14 |               0|\n",
    "|Virgin Atlantic           |fatalities_85_99 |               0|\n",
    "|Xiamen Airlines           |fatalities_total |              82|\n",
    "|Xiamen Airlines           |fatalities_00_14 |               0|\n",
    "|Xiamen Airlines           |fatalities_85_99 |              82|"
   ]
  }
 ],
 "metadata": {
  "kernelspec": {
   "display_name": "R",
   "language": "R",
   "name": "ir"
  },
  "language_info": {
   "codemirror_mode": "r",
   "file_extension": ".r",
   "mimetype": "text/x-r-source",
   "name": "R",
   "pygments_lexer": "r",
   "version": "3.6.1"
  }
 },
 "nbformat": 4,
 "nbformat_minor": 4
}
