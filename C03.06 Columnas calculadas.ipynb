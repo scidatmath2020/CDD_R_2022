{
 "cells": [
  {
   "cell_type": "markdown",
   "metadata": {},
   "source": [
    "![imagenes](logo.png)"
   ]
  },
  {
   "cell_type": "markdown",
   "metadata": {},
   "source": [
    "# Columnas calculadas\n",
    "\n",
    "![imagenes](im009.png)"
   ]
  },
  {
   "cell_type": "markdown",
   "metadata": {},
   "source": [
    "Otra transformación común de datos es crear/calcular nuevas variables basadas en las existentes. Por ejemplo, digamos que te sientes más cómodo pensando en la temperatura en grados Celsius (°C) en lugar de grados Fahrenheit (°F). La fórmula para convertir temperaturas de °F a °C es\n",
    "\n",
    "$$\\mbox{temperatura en C}^\\circ = \\frac{\\mbox{temperatura en F}^\\circ-32}{1.8}$$"
   ]
  },
  {
   "cell_type": "markdown",
   "metadata": {},
   "source": [
    "Podemos aplicar esta fórmula a la variable ``temp`` de ``weather`` usando la función ``mutate()`` del paquete ``dplyr``, que toma las variables existentes y las muta para crear otras nuevas."
   ]
  },
  {
   "cell_type": "code",
   "execution_count": null,
   "metadata": {},
   "outputs": [],
   "source": [
    "library(tidyverse)\n",
    "library(nycflights13)"
   ]
  },
  {
   "cell_type": "code",
   "execution_count": null,
   "metadata": {},
   "outputs": [],
   "source": [
    "weather <- weather %>% \n",
    "  mutate(temp_in_C = (temp - 32) / 1.8)\n",
    "\n",
    "weather"
   ]
  },
  {
   "cell_type": "markdown",
   "metadata": {},
   "source": [
    "En este código, *mutamos* el dataframe ``weather`` creando una nueva variable ``temp_in_C = (temp - 32) / 1.8`` y luego sobrescribimos el dataframe original. ¿Por qué sobrescribimos el clima del dataframe, en lugar de asignar el resultado a un nuevo marco de datos como ``weather_new``? Como regla general, mientras no pierdas la información original que puedas necesitar más adelante, es una práctica aceptable sobrescribir los dataframes existentes con los actualizados, como hicimos aquí. Por otro lado, ¿por qué no sobrescribimos la variable ``temp``, sino que creamos una nueva variable llamada ``temp_in_C``? Porque si hiciéramos esto, habríamos borrado la información original contenida en ``temp`` de temperaturas en Fahrenheit que todavía puede ser valiosa para nosotros."
   ]
  },
  {
   "cell_type": "markdown",
   "metadata": {},
   "source": [
    "Ahora calculemos las temperaturas medias mensuales tanto en °F como en °C usando ``group_by()`` y ``summarize()``:"
   ]
  },
  {
   "cell_type": "code",
   "execution_count": null,
   "metadata": {},
   "outputs": [],
   "source": [
    "resumen_mensual_temperaturas <- weather %>% \n",
    "  group_by(month) %>% \n",
    "  summarize(mean_temp_in_F = mean(temp, na.rm = TRUE), \n",
    "            mean_temp_in_C = mean(temp_in_C, na.rm = TRUE))\n",
    "\n",
    "resumen_mensual_temperaturas"
   ]
  },
  {
   "cell_type": "markdown",
   "metadata": {},
   "source": [
    "Consideremos otro ejemplo. Los pasajeros a menudo se sienten frustrados cuando su vuelo sale tarde, pero no se molestan tanto si, al final, los pilotos pueden recuperar algo de tiempo durante el vuelo. Esto se conoce en la industria de las aerolíneas como **gain** (ganancia), y crearemos esta variable usando la función ``mutate()``:"
   ]
  },
  {
   "cell_type": "code",
   "execution_count": null,
   "metadata": {},
   "outputs": [],
   "source": [
    "flights <- flights %>% \n",
    "  mutate(gain = dep_delay - arr_delay)\n",
    "\n",
    "flights"
   ]
  },
  {
   "cell_type": "markdown",
   "metadata": {},
   "source": [
    "Echemos un vistazo solo a ``dep_delay``, ``arr_delay`` y la variables resultante ``gain`` para las primeras 5 filas en nuestro dataframe de vuelos actualizado:"
   ]
  },
  {
   "cell_type": "code",
   "execution_count": null,
   "metadata": {},
   "outputs": [],
   "source": [
    "flights %>% \n",
    "    select(dep_delay,arr_delay,gain) %>%\n",
    "    head(5)"
   ]
  },
  {
   "cell_type": "markdown",
   "metadata": {},
   "source": [
    "El vuelo de la primera fila salió con 2 minutos de retraso pero llegó con 11 minutos de retraso, por lo que su \"tiempo ganado en el aire\" es una pérdida de 9 minutos, por lo que su ganancia es 2 - 11 = -9. Por otro lado, el vuelo de la cuarta fila partió un minuto antes (``dep_delay`` de -1) pero llegó 18 minutos antes (``arr_delay`` de -18), por lo que su \"tiempo ganado en el aire\" es −1 − (−18) = −1 + 18 = 17  minutos, por lo que su ganancia es +17.\n",
    "\n",
    "Veamos algunas estadísticas de resumen de la variable de ganancia considerando varias funciones de resumen a la vez en el mismo código de ``summarize()``:"
   ]
  },
  {
   "cell_type": "code",
   "execution_count": null,
   "metadata": {},
   "outputs": [],
   "source": [
    "gain_summary <- flights %>% \n",
    "  summarize(\n",
    "    min = min(gain, na.rm = TRUE),\n",
    "    q1 = quantile(gain, 0.25, na.rm = TRUE),\n",
    "    median = quantile(gain, 0.5, na.rm = TRUE),\n",
    "    q3 = quantile(gain, 0.75, na.rm = TRUE),\n",
    "    max = max(gain, na.rm = TRUE),\n",
    "    mean = mean(gain, na.rm = TRUE),\n",
    "    sd = sd(gain, na.rm = TRUE),\n",
    "    missing = sum(is.na(gain))\n",
    "  )\n",
    "\n",
    "gain_summary"
   ]
  },
  {
   "cell_type": "markdown",
   "metadata": {},
   "source": [
    "Vemos, por ejemplo, que la ganancia promedio es de +5 minutos, mientras que la mayor es de +109 minutos."
   ]
  },
  {
   "cell_type": "markdown",
   "metadata": {},
   "source": [
    "Recuerde que, dado que la ganancia es una variable numérica, podemos visualizar su distribución usando un histograma."
   ]
  },
  {
   "cell_type": "code",
   "execution_count": null,
   "metadata": {},
   "outputs": [],
   "source": [
    "ggplot(data = flights, mapping = aes(x = gain)) +\n",
    "  geom_histogram(color = \"white\", bins = 20)"
   ]
  },
  {
   "cell_type": "markdown",
   "metadata": {},
   "source": [
    "El histograma resultante proporciona una perspectiva diferente sobre la variable de ganancia que las estadísticas de resumen que calculamos anteriormente. Por ejemplo, que la mayoría de los valores de ganancia están alrededor de 0.\n",
    "\n",
    "Para cerrar nuestra discusión sobre la función ``mutate()`` para crear nuevas variables, toma en cuenta que podemos crear varias variables nuevas a la vez en el mismo código ``mutate()``. Además, dentro del mismo código ``mutate()`` podemos referirnos a nuevas variables que acabamos de crear. Como ejemplo, considere el código ``mutate()``:"
   ]
  },
  {
   "cell_type": "code",
   "execution_count": null,
   "metadata": {},
   "outputs": [],
   "source": [
    "flights <- flights %>% \n",
    "  mutate(\n",
    "    gain = dep_delay - arr_delay,\n",
    "    hours = air_time / 60,\n",
    "    gain_per_hour = gain / hours\n",
    "  )\n",
    "\n",
    "flights"
   ]
  },
  {
   "cell_type": "markdown",
   "metadata": {},
   "source": [
    "---\n",
    "---\n",
    "\n",
    "**Ejercicios.**\n",
    "\n",
    "**3.6.1.** ¿A qué corresponden los valores positivos de la variable ganancia en vuelos? ¿Qué pasa con los valores negativos? ¿Y qué pasa con un valor cero?\n",
    "\n",
    "**3.6.2.** ¿Podríamos crear las columnas ``dep_delay`` y ``arr_delay`` simplemente restando ``dep_time`` de ``sched_dep_time`` y de manera similar para las llegadas? Pruebe el código y explique las diferencias entre el resultado y lo que realmente aparece en los vuelos.\n",
    "\n",
    "**3.6.3.** ¿Qué podemos decir sobre la distribución de la ganancia? Descríbalo en unas pocas oraciones usando la gráfica y los valores del dataframe ``gain_summary``.\n",
    "\n",
    "---\n",
    "---"
   ]
  }
 ],
 "metadata": {
  "kernelspec": {
   "display_name": "R",
   "language": "R",
   "name": "ir"
  },
  "language_info": {
   "codemirror_mode": "r",
   "file_extension": ".r",
   "mimetype": "text/x-r-source",
   "name": "R",
   "pygments_lexer": "r",
   "version": "3.6.1"
  }
 },
 "nbformat": 4,
 "nbformat_minor": 4
}
