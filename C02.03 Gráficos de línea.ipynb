{
 "cells": [
  {
   "cell_type": "markdown",
   "metadata": {},
   "source": [
    "![imagenes](logo.png)"
   ]
  },
  {
   "cell_type": "markdown",
   "metadata": {},
   "source": [
    "# Gráficos de línea\n",
    "\n",
    "El siguiente de los 5NG son los gráficos lineales. Estos muestran la relación entre dos variables numéricas cuando la variable en el eje x, también llamada variable explicativa, es de naturaleza secuencial. En otras palabras, hay un ordenamiento inherente a la variable.\n",
    "\n",
    "Los ejemplos más comunes de gráficos lineales tienen alguna noción de tiempo en el eje x: horas, días, semanas, años, etc. Como el tiempo es secuencial, conectamos observaciones consecutivas de la variable en el eje y con una línea. Los gráficos lineales que tienen alguna noción de tiempo en el eje x también se denominan gráficos de series de tiempo. Ilustremos los gráficos lineales usando otro conjunto de datos en el paquete ``nycflights13``: el dataframe ``weather`` de datos meteorológicos."
   ]
  },
  {
   "cell_type": "code",
   "execution_count": null,
   "metadata": {},
   "outputs": [],
   "source": [
    "library(nycflights13)\n",
    "library(tidyverse)"
   ]
  },
  {
   "cell_type": "code",
   "execution_count": null,
   "metadata": {},
   "outputs": [],
   "source": [
    "str(weather)"
   ]
  },
  {
   "cell_type": "code",
   "execution_count": null,
   "metadata": {},
   "outputs": [],
   "source": [
    "?weather"
   ]
  },
  {
   "cell_type": "markdown",
   "metadata": {},
   "source": [
    "Observe que hay una variable llamada ``temp`` de registros de temperatura por hora en Fahrenheit en estaciones meteorológicas cerca de los tres principales aeropuertos de la ciudad de Nueva York: Newark (código de origen EWR), John F. Kennedy International (JFK) y LaGuardia (LGA).\n",
    "\n",
    "Sin embargo, en lugar de considerar las temperaturas por hora para todos los días en 2013 para los tres aeropuertos, para simplificar, solo consideremos las temperaturas por hora en el aeropuerto de Newark durante los primeros 15 días de enero. Se puede acceder a estos datos en el dataframe ``early_january_weather`` del la librería ``moderndive``. En otras palabras ``early_january_weather``  contiene observaciones meteorológicas por hora para un origen igual a EWR (código de aeropuerto de Newark), mes igual a 1 y día menor o igual a 15."
   ]
  },
  {
   "cell_type": "code",
   "execution_count": null,
   "metadata": {},
   "outputs": [],
   "source": [
    "# install.packages(moderndive)\n",
    "library(moderndive)"
   ]
  },
  {
   "cell_type": "markdown",
   "metadata": {},
   "source": [
    "## Gráficos de línea con ggplot\n",
    "\n",
    "Vamos a crear un gráfico de serie temporal de las temperaturas por hora guardadas en el dataframe ``early_january_weather`` usando ``geom_line()`` para crear un gráfico de líneas, en lugar de usar ``geom_point()`` como usamos anteriormente para crear diagramas de dispersión:"
   ]
  },
  {
   "cell_type": "code",
   "execution_count": null,
   "metadata": {},
   "outputs": [],
   "source": [
    "library(scales)"
   ]
  },
  {
   "cell_type": "code",
   "execution_count": null,
   "metadata": {},
   "outputs": [],
   "source": [
    "ggplot(data = early_january_weather, \n",
    "       mapping = aes(x = time_hour, y = temp)) +\n",
    "  geom_line() +\n",
    "  scale_x_datetime(breaks=date_breaks(\"1 day\")) + \n",
    "  labs(x=\"\\nHora\",y=\"Temperatura\") +\n",
    "  theme(axis.text.x = element_text(angle = 45,hjust=1))"
   ]
  },
  {
   "cell_type": "code",
   "execution_count": null,
   "metadata": {},
   "outputs": [],
   "source": [
    "class(early_january_weather$time_hour)"
   ]
  },
  {
   "cell_type": "markdown",
   "metadata": {},
   "source": [
    "Al igual que con el código ``ggplot()`` que creó el diagrama de dispersión de los retrasos en las salidas y llegadas de los vuelos de Alaska Airlines de la **Sección C02.2**, analicemos este código pieza por pieza en términos de la gramática de los gráficos.\n",
    "\n",
    "Dentro de la llamada a la función ``ggplot()``, especificamos dos de los componentes de la gramática de gráficos como argumentos:\n",
    "\n",
    "* Los datos serán el dataframe ``early_january_weather`` configurando ``data = early_january_weather``.\n",
    "* El mapeo estético configurando ``mapping = aes(x = time_hour, y = temp)``. Específicamente, la variable ``time_hour`` se asigna a la estética de la posición x, mientras que la variable ``temp`` se asigna a la estética de la posición y.\n",
    "\n",
    "Agregamos una capa a la llamada a la ``función ggplot()`` usando el signo ``+``. La capa en cuestión especifica el tercer componente de la gramática: el objeto geométrico en cuestión. En este caso, el objeto geométrico es un conjunto de líneas especificando ``geom_line()``."
   ]
  },
  {
   "cell_type": "markdown",
   "metadata": {},
   "source": [
    "---\n",
    "---\n",
    "\n",
    "**Ejercicios.**\n",
    "\n",
    "**2.3.1.** ¿Por qué se deben evitar los gráficos lineales cuando no hay un orden claro del eje horizontal?\n",
    "\n",
    "**2.3.2.** ¿Por qué se usan con frecuencia los gráficos lineales cuando el tiempo es la variable explicativa en el eje x?\n",
    "\n",
    "**2.3.3.** Traza una serie de tiempo de una variable que no sea de temperatura para el aeropuerto de Newark en los primeros 15 días de enero de 2013.\n",
    "\n",
    "---\n",
    "---"
   ]
  },
  {
   "cell_type": "markdown",
   "metadata": {},
   "source": [
    "## En resumen...\n",
    "\n",
    "Los gráficos de líneas, al igual que los diagramas de dispersión, muestran la relación entre dos variables numéricas. Sin embargo, se prefiere usar gráficos lineales en lugar de diagramas de dispersión cuando la variable en el eje x (es decir, la variable explicativa) tiene un orden inherente, como alguna noción de tiempo."
   ]
  }
 ],
 "metadata": {
  "kernelspec": {
   "display_name": "R",
   "language": "R",
   "name": "ir"
  },
  "language_info": {
   "codemirror_mode": "r",
   "file_extension": ".r",
   "mimetype": "text/x-r-source",
   "name": "R",
   "pygments_lexer": "r",
   "version": "3.6.1"
  }
 },
 "nbformat": 4,
 "nbformat_minor": 4
}
