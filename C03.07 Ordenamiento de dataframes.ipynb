{
 "cells": [
  {
   "cell_type": "markdown",
   "metadata": {},
   "source": [
    "![imagenes](logo.png)"
   ]
  },
  {
   "cell_type": "markdown",
   "metadata": {},
   "source": [
    "# Ordenamiento de dataframes\n",
    "\n",
    "Una de las tareas de procesamiento de datos que se realiza con mayor frecuencia es clasificar las filas de un marco de datos en el orden alfanumérico de una de las variables. La función de ``arrange()`` del paquete ``dplyr`` nos permite ordenar/reordenar las filas de un marco de datos de acuerdo con los valores de la variable especificada.\n",
    "\n",
    "Supongamos que estamos interesados en determinar los aeropuertos de destino más frecuentes para todos los vuelos nacionales que salen de la ciudad de Nueva York en 2013:"
   ]
  },
  {
   "cell_type": "code",
   "execution_count": null,
   "metadata": {},
   "outputs": [],
   "source": [
    "library(tidyverse)\n",
    "library(nycflights13)"
   ]
  },
  {
   "cell_type": "code",
   "execution_count": null,
   "metadata": {},
   "outputs": [],
   "source": [
    "freq_dest <- flights %>%\n",
    "    group_by(dest) %>%\n",
    "    summarize(total = n())\n",
    "\n",
    "freq_dest"
   ]
  },
  {
   "cell_type": "markdown",
   "metadata": {},
   "source": [
    "Observe que, de forma predeterminada, las filas del dataframe resultante ``freq_dest`` se clasifican en orden alfabético de destino. Digamos que nos gustaría ver los mismos datos, pero ordenados de mayor a menor número de vuelos (``total``):"
   ]
  },
  {
   "cell_type": "code",
   "execution_count": null,
   "metadata": {},
   "outputs": [],
   "source": [
    "freq_dest %>% \n",
    "  arrange(total)"
   ]
  },
  {
   "cell_type": "markdown",
   "metadata": {},
   "source": [
    "Esto es, sin embargo, lo contrario de lo que queremos. Las filas se ordenan mostrando primero los aeropuertos de destino menos frecuentes. Esto se debe a que ``arrange()`` siempre devuelve las filas ordenadas en orden ascendente de forma predeterminada. Para cambiar el orden para que esté en orden \"descendente\", usamos la función ``desc()`` así:"
   ]
  },
  {
   "cell_type": "code",
   "execution_count": null,
   "metadata": {},
   "outputs": [],
   "source": [
    "freq_dest %>% \n",
    "  arrange(desc(total))"
   ]
  }
 ],
 "metadata": {
  "kernelspec": {
   "display_name": "R",
   "language": "R",
   "name": "ir"
  },
  "language_info": {
   "codemirror_mode": "r",
   "file_extension": ".r",
   "mimetype": "text/x-r-source",
   "name": "R",
   "pygments_lexer": "r",
   "version": "3.6.1"
  }
 },
 "nbformat": 4,
 "nbformat_minor": 4
}
