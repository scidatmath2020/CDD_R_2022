{
 "cells": [
  {
   "cell_type": "markdown",
   "metadata": {},
   "source": [
    "![imagenes](logo.png)"
   ]
  },
  {
   "cell_type": "markdown",
   "metadata": {},
   "source": [
    "# Resumenes de columnas\n",
    "\n",
    "La siguiente tarea común cuando se trabaja con dataframes es calcular estadísticas de resumen. Las estadísticas de resumen son valores numéricos únicos que resumen una gran cantidad de valores. Los ejemplos comúnmente conocidos de estadísticas de resumen incluyen la **media** (también llamada promedio) y la **mediana** (el valor medio). Otros ejemplos de estadísticas de resumen que pueden no venir a la mente de inmediato incluyen la **suma**, el valor más pequeño (también llamado **mínimo**), el valor más grande (también llamado **máximo**) y la **desviación estándar**. \n",
    "\n",
    "Las funciones de resumen en **R** toman muchos valores (generalmente una columna de un dataframe) y devuelven un solo valor, como se ilustra en la siguiente figura:\n",
    "\n",
    "![imagenes](im006.png)"
   ]
  },
  {
   "cell_type": "markdown",
   "metadata": {},
   "source": [
    "Como se muestra en la siguiente figura, la función ``summarize()`` toma un dataframe y devuelve un dataframe con solo una fila  y con tantas columnes como estadísticas de resumen se quieran calcular a las columnas especificadas.\n",
    "\n",
    "![imagenes](im007.png)"
   ]
  },
  {
   "cell_type": "markdown",
   "metadata": {},
   "source": [
    "Calculemos dos estadísticas de resumen de la variable de temperatura ``temp`` del dataframe de datos meteorológicos ``weather``: la media y la desviación estándar. Para calcular estas estadísticas de resumen, necesitamos las funciones de resumen ``mean()`` y ``sd()`` de **R**. Guardaremos el dataframe resultante (de una fila y dos columnas) en un dataframe que llamaremos ``resumen_temp`` cuyas columnas serán ``media`` y ``desviacion``:"
   ]
  },
  {
   "cell_type": "code",
   "execution_count": null,
   "metadata": {},
   "outputs": [],
   "source": [
    "library(tidyverse)\n",
    "library(nycflights13)"
   ]
  },
  {
   "cell_type": "code",
   "execution_count": null,
   "metadata": {},
   "outputs": [],
   "source": [
    "resumen_temperaturas <- weather %>%\n",
    "  summarize(media = mean(temp), desviacion = sd(temp))\n",
    "resumen_temperaturas"
   ]
  },
  {
   "cell_type": "markdown",
   "metadata": {},
   "source": [
    "¿Por qué los valores devueltos son ``NA``? Como vimos en el capítulo de gráficos, ``NA`` es la forma en que **R** codifica los valores faltantes, donde ``NA`` indica \"no disponible\" o \"no aplicable\". Si no existe un valor para una fila en particular y una columna en particular, se almacena ``NA`` en su lugar.\n",
    "\n",
    "Los valores pueden faltar por muchas razones. ¿Quizás se recopilaron los datos pero alguien olvidó ingresarlos? ¿Quizás los datos no se recopilaron en absoluto porque era demasiado difícil hacerlo? ¿Quizás hubo un valor erróneo que alguien ingresó y que se corrigió para leer como faltante? A menudo encontrarás problemas con valores faltantes cuando trabajes con datos reales.\n",
    "\n",
    "Volviendo a nuestra salida ``resumen_temp``, de forma predeterminada cada vez que intentas calcular una estadística de resumen de una columna que tiene uno o más valores faltantes ``NA`` en **R**, se devuelve ``NA``. Para evitar este hecho, puedes establecer el argumento ``na.rm en TRUE``, donde rm es la abreviatura de \"eliminar\" (remove); esto ignorará los valores faltantes de ``NA`` y solo devolverá el valor de resumen para todos los valores que no falten.\n",
    "\n",
    "El siguiente código calcula la media y la desviación estándar de todos los valores de temperatura que no faltan:"
   ]
  },
  {
   "cell_type": "code",
   "execution_count": null,
   "metadata": {},
   "outputs": [],
   "source": [
    "resumen_temperaturas <- weather %>% \n",
    "  summarize(mean = mean(temp, na.rm = TRUE), \n",
    "            std_dev = sd(temp, na.rm = TRUE))\n",
    "resumen_temperaturas"
   ]
  },
  {
   "cell_type": "markdown",
   "metadata": {},
   "source": [
    "Observa cómo ``na.rm = TRUE`` se utiliza como argumento para las funciones de resumen ``mean()`` y ``sd()`` individualmente, y no para la función ``summarize()``.\n",
    "\n",
    "Sin embargo, uno debe ser cauteloso al ignorar los valores faltantes como acabamos de hacer. En las próximas preguntas de ejercicios consideraremos las posibles ramificaciones de filas de barrido a ciegas con valores faltantes \"debajo de la alfombra\". De hecho, esta es la razón por la que el argumento ``na.rm`` de cualquier función estadística de resumen en **R** se establece en ``FALSE`` de forma predeterminada. \n",
    "\n",
    "En otras palabras, **R** no ignora las filas con valores faltantes de forma predeterminada. **R** te alerta sobre la presencia de datos faltantes y debes tener en cuenta esta falta y cualquier causa potencial de esta falta a lo largo de tu análisis."
   ]
  },
  {
   "cell_type": "markdown",
   "metadata": {},
   "source": [
    "¿Cuáles son otras funciones de resumen que podemos usar dentro de ``summarize()`` para calcular estadísticas de resumen? Se puede usar cualquier función en **R** que tome muchos valores y devuelva solo uno. Aquí hay algunos:\n",
    "\n",
    "* ``mean()``: el promedio\n",
    "* ``sd()``: la desviación estándar, que es una medida de dispersión\n",
    "* ``min()`` y ``max()``: los valores mínimo y máximo, respectivamente\n",
    "* ``IQR()``: rango intercuartílico\n",
    "* ``sum()``: la cantidad total al sumar varios números\n",
    "* ``n()``: un recuento del número de filas en cada grupo. Esta función de resumen en particular tendrá más sentido cuando se cubra ``group_by()`` en la siguiente sección."
   ]
  },
  {
   "cell_type": "markdown",
   "metadata": {},
   "source": [
    "---\n",
    "---\n",
    "\n",
    "**Ejercicios**\n",
    "\n",
    "**3.4.1.** Supongamos que un médico está estudiando el efecto del tabaquismo sobre el cáncer de pulmón en un gran número de pacientes cuyos registros se miden en intervalos de cinco años. Se da cuenta de que a un gran número de pacientes les faltan puntos de datos porque el paciente ha muerto, por lo que elige ignorar a estos pacientes en su análisis. ¿Qué tiene de malo el enfoque de este médico?\n",
    "\n",
    "**3.4.2** Modifique el código anterior de la función ``summarize()`` que crea el dataframe ``resumen_temp`` para usar también la función de resumen ``n()``: ``summarize(... , count = n())``. ¿A qué corresponde el valor devuelto?\n",
    "\n",
    "**3.4.3** Ejecute los códigos siguientes luego mire los datos. ¿Por qué no funciona el segundo código?"
   ]
  },
  {
   "cell_type": "code",
   "execution_count": null,
   "metadata": {},
   "outputs": [],
   "source": [
    "summary_temp1 <- weather %>%   \n",
    "  summarize(mean = mean(temp, na.rm = TRUE))\n",
    "summary_temp1"
   ]
  },
  {
   "cell_type": "code",
   "execution_count": null,
   "metadata": {},
   "outputs": [],
   "source": [
    "summary_temp2 <- weather %>%   \n",
    "  summarize(mean = mean(temp, na.rm = TRUE)) %>% \n",
    "  summarize(std_dev = sd(temp, na.rm = TRUE))"
   ]
  }
 ],
 "metadata": {
  "kernelspec": {
   "display_name": "R",
   "language": "R",
   "name": "ir"
  },
  "language_info": {
   "codemirror_mode": "r",
   "file_extension": ".r",
   "mimetype": "text/x-r-source",
   "name": "R",
   "pygments_lexer": "r",
   "version": "3.6.1"
  }
 },
 "nbformat": 4,
 "nbformat_minor": 4
}
