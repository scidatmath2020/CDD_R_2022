{
 "cells": [
  {
   "cell_type": "markdown",
   "metadata": {},
   "source": [
    "![imagenes](logo.png)"
   ]
  },
  {
   "cell_type": "markdown",
   "metadata": {},
   "source": [
    "# Resumen\n",
    "\n",
    "Recapitulemos nuestras funciones de procesamiento de datos en la siguiente tabla. Usando estas funciones y el operador de tubería ``%>%``, podrás escribir código fácilmente legible para realizar casi toda la manipulación y transformación de datos necesaria para el resto de este curso."
   ]
  },
  {
   "cell_type": "markdown",
   "metadata": {},
   "source": [
    "Función|Operación de procesamiento\n",
    ":--:|:--\n",
    "``filter()``|Selecciona un conjunto de filas\n",
    "``summarize()``|Realiza resúmenes de las columnas de un dataframe mediante alguna función de resumen\n",
    "``group_by``|Agrega una estructura de agrupación a las filas en el dataframe. Ten en cuenta que esto no cambia los valores en el dataframe, sino solo los metadatos\n",
    "``mutate()``|Crea nuevas columnas basado en las columnas originales\n",
    "``arrange()``|Ordena las filas de un dataframe en orden ascendente (por default) o descendente (``desc``) basado en una columna\n",
    "``inner_join()``|Une/fusiona dos dataframes, haciendo coincidir las filas por una columna clave"
   ]
  },
  {
   "cell_type": "markdown",
   "metadata": {},
   "source": [
    "---\n",
    "---\n",
    "**Ejercicios**\n",
    "\n",
    "**3.10.1.** Ahora pongamos a prueba tus habilidades de manejo de datos recién adquiridas. \n",
    "\n",
    "Una medida de la capacidad de pasajeros de una aerolínea son las millas/kilómetros de asiento disponibles, que es igual a la cantidad de asientos disponibles multiplicada por la cantidad de millas o kilómetros volados, y sumando estos resultados sobre todos los vuelos.\n",
    "\n",
    "Por ejemplo, digamos que una aerolínea tiene 2 vuelos usando un avión con 10 asientos que voló 500 millas y 3 vuelos usando un avión con 20 asientos que voló 1000 millas; las millas de asientos disponibles serían\n",
    "2 x 10 x 500 + 3 x 20 x 1000 = 70,000 asiento millas.\n",
    "\n",
    "Usando los dataframes incluidos en el paquete ``nycflights13``, calcule las millas de asiento disponibles para cada aerolínea, ordenadas en orden descendente. Después de completar todos los pasos de procesamiento necesarios, el dataframe resultante debe tener 16 filas (una para cada aerolínea) y 2 columnas (nombre de la aerolínea y millas de asiento disponibles). Aquí hay algunos consejos:\n",
    "\n",
    "* **Crucial:** a menos que tengas mucha confianza en lo que estás haciendo, vale la pena no comenzar a codificar de inmediato. Más bien, realiza primero en papel todos los pasos necesarios para el procesamiento de datos sin usar el código exacto, sino un pseudocódigo de alto nivel que sea informal pero lo suficientemente detallado como para articular lo que estás haciendo. De esta manera, no confundirás lo que estás tratando de hacer (el algoritmo) con cómo lo va a hacer (escribir código).\n",
    "\n",
    "* Echa un vistazo de cerca a todos los dataframes usando la función ``View()``: ``flights``, ``weather``, ``planes``, ``airports``, y ``airlines`` para identificar qué variables son necesarias para calcular las millas de asientos disponibles. La figura de relaciones que está [aquí]() muestra cómo se pueden unir los distintos dataframes y también será útil.\n",
    "\n",
    "* Considera las funciones de procesamiento de datos de esta sección como tu caja de herramientas.\n",
    "---\n",
    "---"
   ]
  }
 ],
 "metadata": {
  "kernelspec": {
   "display_name": "R",
   "language": "R",
   "name": "ir"
  },
  "language_info": {
   "codemirror_mode": "r",
   "file_extension": ".r",
   "mimetype": "text/x-r-source",
   "name": "R",
   "pygments_lexer": "r",
   "version": "3.6.1"
  }
 },
 "nbformat": 4,
 "nbformat_minor": 4
}
