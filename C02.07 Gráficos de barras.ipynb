{
 "cells": [
  {
   "cell_type": "markdown",
   "metadata": {},
   "source": [
    "![imagenes](logo.png)"
   ]
  },
  {
   "cell_type": "markdown",
   "metadata": {},
   "source": [
    "# Gráficos de barras\n",
    "\n",
    "Tanto los histogramas como los diagramas de caja son herramientas para visualizar la distribución de variables numéricas. Otra tarea comúnmente deseada es visualizar la distribución de una variable categórica. Esta es una tarea más simple, ya que simplemente estamos contando diferentes categorías dentro de una variable categórica, también conocidas como los niveles de la variable categórica. A menudo, la mejor manera de visualizar estos diferentes recuentos, también conocidos como frecuencias, es con diagramas de barras (también llamados gráficos de barras).\n",
    "\n",
    "Sin embargo, una complicación es cómo se representan sus datos. ¿La variable categórica de interés está \"precontada\" o no? Por ejemplo, ejecute el siguiente código que crea manualmente dos dataframes que representan una colección de frutas: 3 manzanas y 2 naranjas."
   ]
  },
  {
   "cell_type": "code",
   "execution_count": null,
   "metadata": {},
   "outputs": [],
   "source": [
    "frutas <- data.frame(tipo = c(\"manzana\", \"manzana\", \"naranja\", \"manzana\", \"naranja\"))\n",
    "frutas_contadas <- data.frame(tipo = c(\"manzana\", \"naranja\"),total = c(3, 2))"
   ]
  },
  {
   "cell_type": "markdown",
   "metadata": {},
   "source": [
    "Vemos que tanto la tabla ``frutas`` como la de ``frutas_contadas`` representan la misma colección de frutas. Mientras que ``frutas`` solo enumeran la fruta individualmente..."
   ]
  },
  {
   "cell_type": "code",
   "execution_count": null,
   "metadata": {},
   "outputs": [],
   "source": [
    "frutas"
   ]
  },
  {
   "cell_type": "markdown",
   "metadata": {},
   "source": [
    "... ``frutas_contadas`` tiene una columna que representa los valores \"precontados\" de cada fruta."
   ]
  },
  {
   "cell_type": "code",
   "execution_count": null,
   "metadata": {},
   "outputs": [],
   "source": [
    "frutas_contadas"
   ]
  },
  {
   "cell_type": "markdown",
   "metadata": {},
   "source": [
    "Dependiendo de cómo se representen sus datos categóricos, deberás agregar un tipo de capa geométrica diferente a tu ``ggplot()`` para crear un gráfico de barras, como ahora exploramos."
   ]
  },
  {
   "cell_type": "markdown",
   "metadata": {},
   "source": [
    "## Gráficos de barras con ggplot\n",
    "\n",
    "Generemos gráficos de barras usando estas dos representaciones diferentes de la misma canasta de frutas: 3 manzanas y 2 naranjas. Usando el dataframe ``frutas`` donde las 5 frutas se enumeran individualmente en 5 filas, asignamos la variable ``tipo`` a la estética de la posición X y agregamos una capa ``geom_bar()``:"
   ]
  },
  {
   "cell_type": "code",
   "execution_count": null,
   "metadata": {},
   "outputs": [],
   "source": [
    "library(ggplot2)\n",
    "library(nycflights13)"
   ]
  },
  {
   "cell_type": "code",
   "execution_count": null,
   "metadata": {},
   "outputs": [],
   "source": [
    "ggplot(data = frutas, mapping = aes(x = tipo)) +\n",
    "  geom_bar()"
   ]
  },
  {
   "cell_type": "markdown",
   "metadata": {},
   "source": [
    "Sin embargo, usando el dataframe ``frutas_contadas``, donde las frutas han sido \"contadas previamente\", una vez más mapeamos la variable ``tipo`` a la estética de la posición x, pero aquí también mapeamos la variable ``total`` a la estética de la posición Y, y agregamos un capa ``geom_col()`` en su lugar."
   ]
  },
  {
   "cell_type": "code",
   "execution_count": null,
   "metadata": {},
   "outputs": [],
   "source": [
    "ggplot(data = frutas_contadas, mapping = aes(x = tipo, y = total)) +\n",
    "  geom_col()"
   ]
  },
  {
   "cell_type": "markdown",
   "metadata": {},
   "source": [
    "Compara los dos diagramas de barras. Son idénticos porque reflejan conteos de las mismas cinco frutas. Sin embargo, dependiendo de cómo se representen nuestros datos categóricos, ya sea \"precontados\" o no, debemos agregar una capa geométrica diferente.\n",
    "\n",
    "Cuando la variable categórica cuya distribución desea visualizar...\n",
    "\n",
    "* ... no está precontada en tu dataframe, usamos ``geom_bar()``.\n",
    "* ... sí está precontada en tu dataframe, usamos ``geom_col()`` con la estética de posición Y asignada a la variable que tiene los conteos.\n",
    "\n",
    "Ahora volvamos al dataframe de vuelos ``fligths`` en el paquete ``nycflights13`` y visualicemos la distribución de la variable categórica de la aerolínea ``carrier``. En otras palabras, visualicemos la cantidad de vuelos nacionales desde la ciudad de Nueva York que realizó cada compañía aérea en 2013. \n",
    "\n",
    "Recuerda que cuando exploraste por primera vez este dataframe, viste que cada fila corresponde a un vuelo. En otras palabras, el dataframe ``fligths`` se parece más al dataframe ``frutas`` que al`` frutas_contadas`` porque los vuelos no han sido contados previamente por el transportista. Por lo tanto, deberíamos usar ``geom_bar()`` en lugar de ``geom_col()`` para crear un diagrama de barras. Al igual que un ``geom_histogram()``, solo hay una variable en el mapeo estético ``aes()``: la variable ``carrier`` se asigna a la posición x. Sin embargo, como diferencia, los histogramas tienen barras que se tocan, mientras que los gráficos de barras tienen espacios en blanco entre las barras que van de izquierda a derecha."
   ]
  },
  {
   "cell_type": "code",
   "execution_count": null,
   "metadata": {},
   "outputs": [],
   "source": [
    "ggplot(data = flights, mapping = aes(x = carrier)) +\n",
    "  geom_bar()"
   ]
  },
  {
   "cell_type": "markdown",
   "metadata": {},
   "source": [
    "Observe que United Airlines (UA), JetBlue Airways (B6) y ExpressJet Airlines (EV) tuvieron la mayoría de los vuelos que salieron de la ciudad de Nueva York en 2013. Alternativamente, supongamos que tienes un dataframe en el que se contó previamente el número de vuelos para cada aerolínea:"
   ]
  },
  {
   "cell_type": "code",
   "execution_count": null,
   "metadata": {},
   "outputs": [],
   "source": [
    "vuelos_contados <- data.frame(aerolinea = c(\"9E\",\"AA\",\"AS\",\"B6\",\"DL\",\"EV\",\"F9\",\"FL\",\"HA\",\"MQ\",\"OO\",\"UA\",\"US\",\"VX\",\"WN\",\"YV\"),\n",
    "                             total_vuelos = c(18460,32729,714,54635,48110,54173,685,3260,342,26397,32,58665,20536,5162,12275,601))"
   ]
  },
  {
   "cell_type": "markdown",
   "metadata": {},
   "source": [
    "Esto es\n",
    "\n",
    "|aerolinea | total_vuelos|\n",
    "|:---------|------------:|\n",
    "|9E        |        18460|\n",
    "|AA        |        32729|\n",
    "|AS        |          714|\n",
    "|B6        |        54635|\n",
    "|DL        |        48110|\n",
    "|EV        |        54173|\n",
    "|F9        |          685|\n",
    "|FL        |         3260|\n",
    "|HA        |          342|\n",
    "|MQ        |        26397|\n",
    "|OO        |           32|\n",
    "|UA        |        58665|\n",
    "|US        |        20536|\n",
    "|VX        |         5162|\n",
    "|WN        |        12275|\n",
    "|YV        |          601|"
   ]
  },
  {
   "cell_type": "markdown",
   "metadata": {},
   "source": [
    "Para crear un diagrama de barras que visualice la distribución la variable categórica de aerolínea en este caso, ahora usaríamos ``geom_col()`` en lugar de ``geom_bar()``, con un argumento Y adicional en el mapeo estético sobre el ``x = aerolinea``."
   ]
  },
  {
   "cell_type": "code",
   "execution_count": null,
   "metadata": {},
   "outputs": [],
   "source": [
    "ggplot(data = vuelos_contados, mapping = aes(x = aerolinea, y = total_vuelos)) +\n",
    "  geom_col()"
   ]
  },
  {
   "cell_type": "markdown",
   "metadata": {},
   "source": [
    "---\n",
    "---\n",
    "**Ejercicios**\n",
    "\n",
    "**2.7.1.** ¿Por qué los histogramas son inapropiados para las variables categóricas?\n",
    "\n",
    "**2.7.2.** ¿Cuál es la diferencia entre histogramas y diagramas de barras?\n",
    "\n",
    "**2.7.3.** ¿Cuántos vuelos de Envoy Air partieron de la ciudad de Nueva York en 2013?\n",
    "\n",
    "**2.7.4.** ¿Cuál fue la séptima aerolínea con el mayor número de vuelos que salieron de la ciudad de Nueva York en 2013? ¿Cómo podríamos presentar mejor la tabla para obtener esta respuesta rápidamente?\n",
    "\n",
    "---\n",
    "---"
   ]
  },
  {
   "cell_type": "markdown",
   "metadata": {},
   "source": [
    "## Dos variables categóricas\n",
    "\n",
    "Los diagramas de barras son una forma muy común de visualizar la frecuencia de diferentes categorías o niveles de una sola variable categórica. Otro uso de los diagramas de barras es visualizar la distribución conjunta de dos variables categóricas al mismo tiempo. Examinemos la distribución conjunta de los vuelos salientes desde la ciudad de Nueva York por aerolínea ``carrier`` y por origen ``origin``. En otras palabras, el número de vuelos para cada combinación de aerolínea y origen.\n",
    "\n",
    "Por ejemplo, la cantidad de vuelos de WestJet desde JFK, la cantidad de vuelos de WestJet desde LGA, la cantidad de vuelos de WestJet desde EWR, la cantidad de vuelos de American Airlines desde JFK, etc. Recuerde el código ``ggplot()`` que creó el diagrama de barras de la frecuencia de vuelos por aerolínea:"
   ]
  },
  {
   "cell_type": "code",
   "execution_count": null,
   "metadata": {},
   "outputs": [],
   "source": [
    "ggplot(data = flights, mapping = aes(x = carrier)) + \n",
    "  geom_bar()"
   ]
  },
  {
   "cell_type": "markdown",
   "metadata": {},
   "source": [
    "Ahora podemos mapear la variable adicional ``origin`` agregando relleno ``fill=`` dentro del mapeo estético ``aes()``."
   ]
  },
  {
   "cell_type": "code",
   "execution_count": null,
   "metadata": {},
   "outputs": [],
   "source": [
    "ggplot(data = flights, mapping = aes(x = carrier, fill = origin)) +\n",
    "  geom_bar()"
   ]
  },
  {
   "cell_type": "markdown",
   "metadata": {},
   "source": [
    "La gráfica anterior es un ejemplo de un gráfico de barras apiladas. Si bien es simple de hacer, en ciertos aspectos no es ideal. Por ejemplo, es difícil comparar las alturas de los diferentes colores entre las barras, lo que corresponde a comparar el número de vuelos de cada aeropuerto de origen entre las aerolíneas.\n",
    "\n",
    "Antes de continuar, abordemos algunos puntos comunes de confusión entre los nuevos usuarios de **R**. En primer lugar, la estética del relleno ``fill``corresponde al color utilizado para rellenar las barras, mientras que la estética ``color`` corresponde al color del contorno de las barras. Esto es idéntico a cómo agregamos color a nuestro histograma en la **Sección C02.4**: configuramos el contorno de las barras en blanco configurando ``color = \"white\"`` y los colores de las barras en acero azul configurando ``fill = \"steelblue\"``. Observe que asignar el origen al color y no al relleno produce barras grises con contornos de diferentes colores."
   ]
  },
  {
   "cell_type": "code",
   "execution_count": null,
   "metadata": {},
   "outputs": [],
   "source": [
    "ggplot(data = flights, mapping = aes(x = carrier, color = origin)) +\n",
    "  geom_bar()"
   ]
  },
  {
   "cell_type": "markdown",
   "metadata": {},
   "source": [
    "En segundo lugar, ten en cuenta que ``fill`` es otro mapeo estético muy parecido a la posición x; por lo tanto, debemos tener cuidado de incluirlo entre paréntesis del mapeo ``aes()``. \n",
    "\n",
    "En el siguiente código, donde la estética de relleno se especifica fuera del mapeo ``aes()``, vemos que no se genera lo que esperamo. Este es un error bastante común que cometen los nuevos usuarios de ggplot:"
   ]
  },
  {
   "cell_type": "code",
   "execution_count": null,
   "metadata": {},
   "outputs": [],
   "source": [
    "ggplot(data = flights, mapping = aes(x = carrier), fill = origin) +\n",
    "  geom_bar()"
   ]
  },
  {
   "cell_type": "markdown",
   "metadata": {},
   "source": [
    "Una alternativa a las gráficas de barras apiladas son las gráficas de barras una al lado de la otra, también conocidas como gráficas de barras esquivadas. El código para crear un gráfico de barras de lado a lado es idéntico al código para crear un gráfico de barras apilado, pero con un argumento ``position = \"dodge\"`` agregado a ``geom_bar()``. En otras palabras, reemplazamos el tipo de gráfico de barras predeterminado, que es un gráfico de barras apilado, y lo especificamos para que sea un gráfico de barras en paralelo."
   ]
  },
  {
   "cell_type": "code",
   "execution_count": null,
   "metadata": {},
   "outputs": [],
   "source": [
    "ggplot(data = flights, mapping = aes(x = carrier, fill = origin)) +\n",
    "  geom_bar(position = \"dodge\")"
   ]
  },
  {
   "cell_type": "markdown",
   "metadata": {},
   "source": [
    "Tenga en cuenta que el ancho de las barras para AS, F9, FL, HA y YV es diferente al de los demás. Podemos hacer un ajuste al argumento ``position`` para que tengan el mismo tamaño en términos de ancho que las otras barras usando la función ``position_dodge()``."
   ]
  },
  {
   "cell_type": "code",
   "execution_count": null,
   "metadata": {},
   "outputs": [],
   "source": [
    "ggplot(data = flights, mapping = aes(x = carrier, fill = origin)) +\n",
    "  geom_bar(position = position_dodge(preserve = \"single\"))"
   ]
  },
  {
   "cell_type": "markdown",
   "metadata": {},
   "source": [
    "Por último, otro tipo de gráfico de barras es un gráfico de barras facetado. Recuerde que en la **Sección C02.5** visualizamos la distribución de las temperaturas por hora en los 3 aeropuertos de la Ciudad de Nueva York divididos por mes usando facetas. Aplicamos el mismo principio a nuestro diagrama de barras que visualiza la frecuencia de la aerolínea dividida por origen: en lugar de mapear el origen para llenarlo, lo incluimos como la variable para crear pequeños múltiplos del diagrama a través de los niveles de origen."
   ]
  },
  {
   "cell_type": "code",
   "execution_count": null,
   "metadata": {},
   "outputs": [],
   "source": [
    "ggplot(data = flights, mapping = aes(x = carrier)) +\n",
    "  geom_bar() +\n",
    "  facet_wrap(~ origin, ncol = 1)"
   ]
  },
  {
   "cell_type": "markdown",
   "metadata": {},
   "source": [
    "---\n",
    "---\n",
    "**Ejercicios.**\n",
    "\n",
    "**2.7.5.** ¿Qué tipo de preguntas no se responden fácilmente mirando el gráfico apilado de aerolíneas por origen?\n",
    "\n",
    "**2.7.6.** ¿Qué puedes decir, si es que puedes decir algo, sobre la relación entre la aerolínea y el aeropuerto en la ciudad de Nueva York en 2013 con respecto a la cantidad de vuelos que salen?\n",
    "\n",
    "**2.7.7.** ¿Por qué podría ser preferible la gráfica de barras una al lado de la otra a una gráfica de barras apiladas en este caso?\n",
    "\n",
    "**2.7.8.** ¿Cuáles son las desventajas de usar un diagrama de barras esquivado, en general?\n",
    "\n",
    "**2.7.9.** ¿Por qué se prefiere la gráfica de barras facetadas a las gráficas de barras apiladas y una al lado de la otra en este caso?\n",
    "\n",
    "**2.7.10.** ¿Qué información sobre las diferentes aerolíneas en diferentes aeropuertos se ve más fácilmente en el diagrama de barras facetado?\n",
    "\n",
    "---\n",
    "---"
   ]
  },
  {
   "cell_type": "markdown",
   "metadata": {},
   "source": [
    "## En resumen...\n",
    "\n",
    "Los diagramas de barras son una forma común de mostrar la distribución de una variable categórica, o en otras palabras, la frecuencia con la que ocurren las diferentes categorías (también llamadas niveles). Son fáciles de entender y facilitan las comparaciones entre niveles. Además, cuando intenta visualizar la relación de dos variables categóricas, tiene muchas opciones: diagramas de barras apilados, diagramas de barras uno al lado del otro y diagramas de barras facetados. Según el aspecto de la relación que esté tratando de enfatizar, deberás elegir entre estos tres tipos de diagramas de barras y tomar esa decisión."
   ]
  }
 ],
 "metadata": {
  "kernelspec": {
   "display_name": "R",
   "language": "R",
   "name": "ir"
  },
  "language_info": {
   "codemirror_mode": "r",
   "file_extension": ".r",
   "mimetype": "text/x-r-source",
   "name": "R",
   "pygments_lexer": "r",
   "version": "3.6.1"
  }
 },
 "nbformat": 4,
 "nbformat_minor": 4
}
