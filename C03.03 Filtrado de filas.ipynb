{
 "cells": [
  {
   "cell_type": "markdown",
   "metadata": {},
   "source": [
    "![imagenes](logo.png)"
   ]
  },
  {
   "cell_type": "markdown",
   "metadata": {},
   "source": [
    "# Filtrado de filas\n",
    "\n",
    "La función ``filter()`` aquí funciona de manera muy similar a la opción \"Filtro\" en **Excel**: le permite especificar criterios sobre los valores de una variable en su conjunto de datos y luego filtra solo las filas que coinciden con esos criterios.\n",
    "\n",
    "![imagenes](im005.png)"
   ]
  },
  {
   "cell_type": "markdown",
   "metadata": {},
   "source": [
    "Comenzamos centrándonos únicamente en los vuelos de la ciudad de Nueva York a Portland, Oregón. La columna ``dest`` del dataframe ``flights`` contiene el código del aeropuerto de destino de cada vuelo. En el caso de Portland, Oregón es \"PDX\".\n",
    "\n",
    "Ejecuta lo siguiente y observa los resultados en el visor de hojas de cálculo de **RStudio** para asegurarse de que solo se elijan aquí los vuelos que se dirigen a Portland:"
   ]
  },
  {
   "cell_type": "code",
   "execution_count": null,
   "metadata": {},
   "outputs": [],
   "source": [
    "library(tidyverse)\n",
    "library(nycflights13)"
   ]
  },
  {
   "cell_type": "code",
   "execution_count": null,
   "metadata": {},
   "outputs": [],
   "source": [
    "portland_flights <- flights %>% \n",
    "  filter(dest == \"PDX\"))\n",
    "#View(portland_flights)"
   ]
  },
  {
   "cell_type": "markdown",
   "metadata": {},
   "source": [
    "Tenga en cuenta el orden del código. Primero, tomamos el dataframe ``flights`` y luego con ``filter()`` filtramos los vuelos para que se incluyan aquellos en los que el destino ``dest`` es igual a ``\"PDX\"``. Probamos la igualdad usando el doble signo igual ``==`` y no un solo signo igual ``=``. En otras palabras, ``filter(dest = \"PDX\")`` generará un error. Esta es una convención en muchos lenguajes de programación. Si eres nuevo en la codificación, probablemente te olvides de usar el doble signo igual ``==`` unas cuantas veces antes de que te acostumbres.\n",
    "\n",
    "Puede usar otros operadores además del operador ``==`` que prueba la igualdad:\n",
    "\n",
    "* ``>`` corresponde a \"mayor que\"\n",
    "* ``<`` corresponde a \"menor que\"\n",
    "* ``>=`` corresponde a \"mayor o igual que\" ($\\ge$)\n",
    "* ``<=`` corresponde a \"menor que o igual que\" ($\\le$) \n",
    "* ``!=`` corresponde a \"distinto de\". El símbolo ``!`` se usa en muchos lenguajes de programación para indicar \"no\".\n",
    "\n",
    "Además, puedes combinar múltiples criterios utilizando operadores que hacen comparaciones:\n",
    "\n",
    "* ``|`` corresponde a \"o\"\n",
    "* ``&`` corresponde a \"y\"\n",
    "\n",
    "Para ver algunos de estos comandos en acción, filtremos vuelos para todas las filas que partieron de JFK y se dirigían a Burlington, Vermont (\"BTV\") o Seattle, Washington (\"SEA\") y partieron en los meses de octubre, noviembre o Diciembre."
   ]
  },
  {
   "cell_type": "code",
   "execution_count": null,
   "metadata": {},
   "outputs": [],
   "source": [
    "flights %>%\n",
    "   filter(origin == \"JFK\" & (dest == \"BTV\" | dest == \"SEA\") & month >= 10)"
   ]
  },
  {
   "cell_type": "code",
   "execution_count": null,
   "metadata": {},
   "outputs": [],
   "source": [
    "btv_sea_flights_fall <- flights %>%\n",
    "   filter((origin == \"JFK\") & (dest == \"BTV\" | dest == \"SEA\") & (month >= 10))\n",
    "#View(btv_sea_flights_fall)"
   ]
  },
  {
   "cell_type": "markdown",
   "metadata": {},
   "source": [
    "Ten en cuenta que aunque coloquialmente se podría decir \"todos los vuelos que salen de Burlington, Vermont **y** Seattle, Washington\", en términos de operaciones informáticas en realidad queremos decir \"todos los vuelos que salen de Burlington, Vermont **o** Seattle, Washington\". \n",
    "\n",
    "Para una fila dada en los datos, el destino puede ser \"BTV\", o \"SEA\", o cualquier otra cosa, pero no tanto \"BTV\" como \"SEA\" al mismo tiempo. Además, toma en cuenta el uso cuidadoso de paréntesis alrededor de ``dest == \"BTV\" | dest == \"SEA\"``.\n",
    "\n",
    "A menudo podemos omitir el uso de ``&`` y simplemente separar nuestras condiciones con una coma. El código anterior devolverá la misma salida que el siguiente código:"
   ]
  },
  {
   "cell_type": "code",
   "execution_count": null,
   "metadata": {},
   "outputs": [],
   "source": [
    "btv_sea_flights_fall <- flights %>% \n",
    "  filter(origin == \"JFK\", (dest == \"BTV\" | dest == \"SEA\"), month >= 10)\n",
    "#View(btv_sea_flights_fall)"
   ]
  },
  {
   "cell_type": "markdown",
   "metadata": {},
   "source": [
    "Presentemos otro ejemplo que usa el operadr ``!`` para seleccionar filas que no coinciden con un criterio. \n",
    "\n",
    "Como se mencionó anteriormente, el ``!`` puede leerse como \"no\". Aquí estamos filtrando filas correspondientes a vuelos que no fueron a Burlington, Vermont o Seattle, Washington."
   ]
  },
  {
   "cell_type": "code",
   "execution_count": null,
   "metadata": {},
   "outputs": [],
   "source": [
    "flights %>% \n",
    "  filter(!(dest == \"BTV\" | dest == \"SEA\"))"
   ]
  },
  {
   "cell_type": "markdown",
   "metadata": {},
   "source": [
    "Nuevamente, observa el uso cuidadoso de paréntesis alrededor de ``dest == \"BTV\" | dest == \"SEA\"``."
   ]
  },
  {
   "cell_type": "markdown",
   "metadata": {},
   "source": [
    "Ahora digamos que tenemos una mayor cantidad de aeropuertos que queremos filtrar, digamos \"SEA\", \"SFO\", \"PDX\", \"BTV\" y \"BDL\". Podríamos seguir usando el operador ``|`` :"
   ]
  },
  {
   "cell_type": "code",
   "execution_count": null,
   "metadata": {},
   "outputs": [],
   "source": [
    "flights %>% \n",
    "  filter(dest == \"SEA\" | dest == \"SFO\" | dest == \"PDX\" | dest == \"BTV\" | dest == \"BDL\")"
   ]
  },
  {
   "cell_type": "markdown",
   "metadata": {},
   "source": [
    "Pero a medida que incluimos progresivamente más aeropuertos, será difícil escribir esto. Un enfoque un poco más corto utiliza el operador ``%in%`` junto con la función ``c()``. "
   ]
  },
  {
   "cell_type": "code",
   "execution_count": null,
   "metadata": {},
   "outputs": [],
   "source": [
    "flights %>% \n",
    "  filter(dest %in% c(\"SEA\", \"SFO\", \"PDX\", \"BTV\", \"BDL\"))"
   ]
  },
  {
   "cell_type": "markdown",
   "metadata": {},
   "source": [
    "Lo que hace este código es filtrar vuelos para todos los vuelos donde el destino está en el vector de aeropuertos ``c(\"BTV\", \"SEA\", \"PDX\", \"SFO\", \"BDL\")``. Ambas resultados de los dos códigos anteriores son iguales, pero como puedes ver, la última requiere mucha menos energía para codificar. El operador ``%in%`` es útil para buscar coincidencias comúnmente en un vector/variable en comparación con otro.\n",
    "\n",
    "Como nota final, recomendamos que ``filter()`` esté a menudo entre las primeras funciones que considere aplicar a sus datos. Esto limpia su conjunto de datos a solo aquellas filas que le interesan o, dicho de otra manera, reduce el alcance de su dataframe a solo las observaciones que le interesan."
   ]
  },
  {
   "cell_type": "markdown",
   "metadata": {},
   "source": [
    "---\n",
    "---\n",
    "\n",
    "**Ejercicios.**\n",
    "\n",
    "**3.3.1.** ¿Cuál es otra forma de usar el operador \"no\" para filtrar solo las filas que no van a Burlington, VT ni a Seattle, WA en el dataframe ``flights``?\n",
    "\n",
    "---\n",
    "---"
   ]
  }
 ],
 "metadata": {
  "kernelspec": {
   "display_name": "R",
   "language": "R",
   "name": "ir"
  },
  "language_info": {
   "codemirror_mode": "r",
   "file_extension": ".r",
   "mimetype": "text/x-r-source",
   "name": "R",
   "pygments_lexer": "r",
   "version": "3.6.1"
  }
 },
 "nbformat": 4,
 "nbformat_minor": 4
}
