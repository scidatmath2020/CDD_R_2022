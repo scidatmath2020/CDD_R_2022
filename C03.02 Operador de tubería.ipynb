{
 "cells": [
  {
   "cell_type": "markdown",
   "metadata": {},
   "source": [
    "![imagenes](logo.png)"
   ]
  },
  {
   "cell_type": "markdown",
   "metadata": {},
   "source": [
    "# El operador de tubería %>%\n",
    "\n",
    "Antes de comenzar con el procesamiento de datos, primero presentemos una herramienta ingeniosa que se carga con el paquete ``dplyr``: el operador de tubería ``%>%``. El operador de tubería nos permite combinar múltiples operaciones en **R** en una sola cadena secuencial de acciones.\n",
    "\n",
    "Comencemos con un ejemplo hipotético. Digamos que le gustaría realizar una secuencia hipotética de operaciones en un dataframe hipotético ``X`` usando las funciones hipotéticas ``f()``, ``g()`` y ``h()``:\n",
    "\n",
    "1. Toma ``X`` y luego\n",
    "2. Usa ``X`` como entrada para una función ``f()`` y luego\n",
    "3. Use la salida de ``f(X)`` como entrada a una función ``g()`` y luego\n",
    "4. Use la salida de ``g(f(X))`` como entrada a una función ``h()``.\n",
    "\n",
    "Una forma de lograr esta secuencia de operaciones es mediante el uso de paréntesis anidados de la siguiente manera: ``h(g(f(x)))``\n",
    "\n",
    "\n",
    "Este código no es tan difícil de leer ya que estamos aplicando solo tres funciones: ``f()``, luego ``g()``, luego ``h()`` y cada una de las funciones tiene un nombre corto. Además, cada una de estas funciones también solo tiene un argumento. Sin embargo, puedes imaginar que esto se volverá progresivamente más difícil de leer a medida que aumenta la cantidad de funciones aplicadas en su secuencia y también aumentan los argumentos en cada función. Aquí es donde el operador de tubería ``%>%`` resulta útil. \n",
    "\n",
    "``%>%`` toma la salida de una función y luego la \"canaliza\" para que sea la entrada de la siguiente función. Además, un truco útil es leer ``%>%`` como \"entonces\" o \"y luego\". Por ejemplo, puedes obtener el mismo resultado que la secuencia hipotética de funciones de la siguiente manera:\n",
    "\n",
    "``X %>%\n",
    "  f() %>%\n",
    "  g() %>%\n",
    "  h()``"
   ]
  },
  {
   "cell_type": "markdown",
   "metadata": {},
   "source": [
    "Leerías esta secuencia como:\n",
    "\n",
    "1. Toma ``X`` y luego\n",
    "2. Use esta salida como entrada para la siguiente función ``f()`` y luego\n",
    "3. Use esta salida como entrada para la siguiente función ``g()`` y luego\n",
    "4. Use esta salida como entrada para la siguiente función ``h()``.\n",
    "\n",
    "Entonces, si bien ambos enfoques logran el mismo objetivo, el último es mucho más legible para los humanos porque puede leer claramente la secuencia de operaciones línea por línea. Pero, ¿cuáles son las hipotéticas ``X``, ``f()``, ``g()`` y ``h()``? A lo largo de este capítulo sobre procesamiento de datos:"
   ]
  },
  {
   "cell_type": "markdown",
   "metadata": {},
   "source": [
    "1. El valor inicial ``X`` será un dataframe. Por ejemplo, el dataframe ``flights``.\n",
    "\n",
    "2. La secuencia de funciones (``f()``, ``g()`` y ``h()``), será en su mayoría una secuencia de cualquier número de las seis funciones con nombre que describimos en la introducción de este capítulo. Por ejemplo, la función y el argumento ``filter(carrier == \"AS\")``.\n",
    "\n",
    "3. El resultado será el dataframe transformado/modificado que desee. En nuestro ejemplo, guardaremos el resultado en un nuevo marco de datos usando el operador de asignación ``<-`` con el nombre deseado."
   ]
  },
  {
   "cell_type": "markdown",
   "metadata": {},
   "source": [
    "Al igual que cuando agregas capas a un ``ggplot()`` usando el signo ``+``, formarás una sola cadena de operaciones de procesamiento de datos al combinar funciones en una sola secuencia usando el operador de tubería ``%>%``. Además, al igual que el signo ``+`` debe aparecer al final de las líneas cuando se construyen gráficos, el operador de tubería ``%>%`` también debe aparecer al final de las líneas.\n",
    "\n",
    "Ten en cuenta que existen muchas más funciones avanzadas de manipulación de datos además de las seis enumeradas en la introducción de este capítulo; Verás algunos ejemplos de estos mas adelante. Sin embargo, solo con estas seis funciones podrás realizar una amplia gama de tareas de gestión de datos para el resto de este curso."
   ]
  }
 ],
 "metadata": {
  "kernelspec": {
   "display_name": "R",
   "language": "R",
   "name": "ir"
  },
  "language_info": {
   "codemirror_mode": "r",
   "file_extension": ".r",
   "mimetype": "text/x-r-source",
   "name": "R",
   "pygments_lexer": "r",
   "version": "3.6.1"
  }
 },
 "nbformat": 4,
 "nbformat_minor": 4
}
