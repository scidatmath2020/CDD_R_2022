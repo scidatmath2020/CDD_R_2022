{
 "cells": [
  {
   "cell_type": "markdown",
   "metadata": {},
   "source": [
    "![imagenes](logo.png)"
   ]
  },
  {
   "attachments": {},
   "cell_type": "markdown",
   "metadata": {},
   "source": [
    "# Acciones de mejora para en municipio/colonia\n",
    "\n",
    "En la **ENVIPE 2022**, también se le preguntó al encuestado si ciertas actividades se realizaron en su colonia/municipio para mejorar su ambiente inmediato. \n",
    "\n",
    "Las actividades fueron:\n",
    "\n",
    "Construcción/mantenimiento de parques\n",
    "\n",
    "Mejorar alumbrado\n",
    "\n",
    "Mejorar el ingreso de las familias\n",
    "\n",
    "Atender el desempleo \n",
    "\n",
    "Atención a los jóvenes\n",
    "\n",
    "Organización de los vecinos para contratar seguridad privada\n",
    "\n",
    "Policía de barrio para que coordine la seguridad de la colonia\n",
    "\n",
    "Operativos contra la delincuencia\n",
    "\n",
    "Programas de sensibilización para que la gente denuncie\n",
    "\n",
    "Mayor vigilancia policiaca\n",
    "\n",
    "Combatir la corrupción \n",
    "\n",
    "Combatir el narcotráfico\n",
    "\n",
    "Otra\n",
    "\n",
    "Esta información está contenida en cada una de las 13 columnas del archivo ``tper_vic.RData`` de la sección anterior, el cual puedes descargar de https://github.com/scidatmath2020/Miscelanea/tree/main/R/Estadistica%20y%20Ciencia%20de%20datos/percepcion_corrupcion_autoridades_2022\n",
    "\n",
    "Las columnas son aquellas con nombre ``AP5_1_X`` donde ``X`` es 01, 02, 03,..., 11, 12, 13. Los valores de cada columna pueden ser\n",
    "* 1 = Sí se realizó\n",
    "* 2 = No sabe si se realizó\n",
    "* 3 = No se realizó\n",
    "* 9 = No responde\n"
   ]
  },
  {
   "cell_type": "markdown",
   "metadata": {},
   "source": [
    "## Proyecto final\n",
    "\n",
    "1. Encuentra cuáles fueron las 10 acciones más llevadas a cabo en todo el país. Publica tu código y el dataframe resultante.\n",
    "\n",
    "2. Calcula la población mayor de edad en cada entidad del país y calcula cuántas personas reportaron que sí se llevó a cabo la aplicación de cada acción respectiva. Luego, calcula el porcentaje de personas que respondieron que sí respecto del total de la población (por ejemplo, si la Entidad ``E`` tiene ``p`` habitantes mayores de edad, entonces para cada una de las 13 actividades calcula ``a*100/p``, donde ``a`` es el número de personas que reportaron que dicha actividad sí se realizó).\n",
    "\n",
    "3. Realiza un mapa de México donde cada entidad se ilumine respecto del porcentaje anterior, y faceteado por las 13 actividades.\n",
    "\n",
    "4. Realiza un mapa de tu entidad faceteado por cada una de las 13 actividades y donde el color esté dado nuevamente por el porcentaje.\n",
    "\n",
    "5. Descansa y sé felíz."
   ]
  },
  {
   "cell_type": "markdown",
   "metadata": {},
   "source": [
    "## Estás en camino de ser un científico de datos. ¡Mucho éxito en tu carrera!"
   ]
  }
 ],
 "metadata": {
  "kernelspec": {
   "display_name": "R",
   "language": "R",
   "name": "ir"
  },
  "language_info": {
   "codemirror_mode": "r",
   "file_extension": ".r",
   "mimetype": "text/x-r-source",
   "name": "R",
   "pygments_lexer": "r",
   "version": "3.6.1"
  }
 },
 "nbformat": 4,
 "nbformat_minor": 4
}
