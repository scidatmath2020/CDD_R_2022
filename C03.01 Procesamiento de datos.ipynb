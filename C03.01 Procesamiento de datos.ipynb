{
 "cells": [
  {
   "cell_type": "markdown",
   "metadata": {},
   "source": [
    "![imagenes](logo.png)"
   ]
  },
  {
   "cell_type": "markdown",
   "metadata": {},
   "source": [
    "# Procesamiento\n",
    "\n",
    "Hasta ahora hemos visto cómo mirar los datos guardados en dataframes usando las funciones de ``glimpse()`` y ``View()`` en el **Capítulo 1**, y cómo crear visualizaciones de datos usando el paquete ``ggplot2`` en el **Capítulo 2**. En particular, estudiamos lo que llamamos los \"cinco gráficos con nombre\" (5NG).\n",
    "\n",
    "Creamos estas visualizaciones utilizando la gramática de gráficos, que asigna variables en un dataframe a los atributos estéticos. También podemos controlar otros atributos estéticos de los objetos geométricos, como el tamaño y el color.\n",
    "\n",
    "En este capítulo, presentaremos una serie de funciones del paquete ``dplyr`` de ``tidyverse`` para el procesamiento de datos que te permitirán tomar un dataframe y \"arreglarlo\" (transformarlo) para que se adapte a tus necesidades. Tales funciones incluyen:\n",
    "\n",
    "* ``filter()`` para filtrar las filas existentes de un dataframe y poder seleccionar solo un subconjunto de ellas. \n",
    "\n",
    "* ``summarize()`` para crear resúmenes de una o más de las columnas/variables mediante una estadística. \n",
    "\n",
    "* ``group_by()`` para agrupar filas. En otras palabras, asigne diferentes filas para que formen parte de un mismo grupo. Luego podemos combinar ``group_by()`` con ``summary()`` para informar estadísticas de resumen para cada grupo por separado. \n",
    "\n",
    "* ``mutate()`` para crear columnas calculadas. Por ejemplo, convierta los registros de temperatura por hora de grados Fahrenheit a grados Celsius.\n",
    "\n",
    "* ``arrange()`` para ordenar las filas. Por ejemplo, ordena las filas de la tabla de clima ``weather`` en orden ascendente o descendente de temperatura.\n",
    "\n",
    "* ``join()`` para unir dos dataframes mediante una columna *clave*. \n",
    "\n"
   ]
  },
  {
   "cell_type": "markdown",
   "metadata": {},
   "source": [
    "Hay un beneficio adicional de aprender a usar el paquete ``dplyr`` para la gestión de datos: su similitud con el lenguaje de consulta de bases de datos **SQL**. **SQL** (que significa \"Lenguaje de consulta estructurado\") se usa para administrar grandes bases de datos de manera rápida y eficiente y es ampliamente utilizado por muchas instituciones con una gran cantidad de datos. Si bien **SQL** es un tema que queda para un curso sobre administración de bases de datos, ten en cuenta que una vez que aprendas ``dplyr``, podrás aprender **SQL** fácilmente."
   ]
  }
 ],
 "metadata": {
  "kernelspec": {
   "display_name": "R",
   "language": "R",
   "name": "ir"
  },
  "language_info": {
   "codemirror_mode": "r",
   "file_extension": ".r",
   "mimetype": "text/x-r-source",
   "name": "R",
   "pygments_lexer": "r",
   "version": "3.6.1"
  }
 },
 "nbformat": 4,
 "nbformat_minor": 4
}
